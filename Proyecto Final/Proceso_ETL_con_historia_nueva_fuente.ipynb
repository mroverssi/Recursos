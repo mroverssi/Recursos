{
 "cells": [
  {
   "cell_type": "markdown",
   "metadata": {},
   "source": [
    "# Proceso ETL Vuelos_DB\n"
   ]
  },
  {
   "cell_type": "markdown",
   "metadata": {},
   "source": [
    "## 1. Importar paquetes requeridos"
   ]
  },
  {
   "cell_type": "code",
   "execution_count": 1,
   "metadata": {},
   "outputs": [],
   "source": [
    "from pyspark.sql import SparkSession\n",
    "from pyspark.sql import functions\n",
    "from pyspark.sql.types import StructType\n",
    "from pyspark import SparkContext, SparkConf, SQLContext\n",
    "from pyspark.sql.types import FloatType\n",
    "from pyspark.sql.types import StringType\n",
    "from pyspark.sql.functions import udf, isnan, when, count, col, to_date, regexp_replace, concat_ws, abs \n",
    "from pyspark.sql.functions import monotonically_increasing_id, upper, concat\n",
    "from pyspark.sql.window import Window\n",
    "from pyspark.sql import functions as f\n",
    "import os \n",
    "os.environ['PYSPARK_SUBMIT_ARGS'] = '--jars /usr/share/java/mariadb-java-client-2.5.3.jar pyspark-shell'"
   ]
  },
  {
   "cell_type": "markdown",
   "metadata": {},
   "source": [
    "## 2. Crear una sesión de PySpark "
   ]
  },
  {
   "cell_type": "code",
   "execution_count": 2,
   "metadata": {},
   "outputs": [],
   "source": [
    "#Configuración de la sesión\n",
    "spark_context = SparkContext()\n",
    "sql_context = SQLContext(spark_context)\n",
    "spark = sql_context.sparkSession"
   ]
  },
  {
   "cell_type": "markdown",
   "metadata": {},
   "source": [
    "## 3. Exploración"
   ]
  },
  {
   "cell_type": "markdown",
   "metadata": {},
   "source": [
    "Crear Dataframe para aeropuertos y vuelos"
   ]
  },
  {
   "cell_type": "code",
   "execution_count": 3,
   "metadata": {},
   "outputs": [],
   "source": [
    "PATH = \"./data/\""
   ]
  },
  {
   "cell_type": "markdown",
   "metadata": {},
   "source": [
    "### 3.1. Ajuste información del archivo Aeropuertos.csv"
   ]
  },
  {
   "cell_type": "code",
   "execution_count": 4,
   "metadata": {
    "scrolled": true
   },
   "outputs": [
    {
     "name": "stdout",
     "output_type": "stream",
     "text": [
      "StructType(List(StructField(sigla,StringType,true),StructField(iata,StringType,true),StructField(nombre,StringType,true),StructField(municipio,StringType,true),StructField(departamento,StringType,true),StructField(categoria,StringType,true),StructField(latitud,DoubleType,true),StructField(longitud,DoubleType,true),StructField(propietario,StringType,true),StructField(explotador,StringType,true),StructField(longitud_pista,DoubleType,true),StructField(ancho_pista,DoubleType,true),StructField(pbmo,DoubleType,true),StructField(elevacion,DoubleType,true),StructField(resolucion,StringType,true),StructField(fecha_construccion,StringType,true),StructField(fecha_vigencia,StringType,true),StructField(clase,StringType,true),StructField(tipo,StringType,true),StructField(numero_vuelos_origen,DoubleType,true),StructField(gcd_departamento,IntegerType,true),StructField(gcd_municipio,IntegerType,true),StructField(Ano,IntegerType,true)))\n"
     ]
    }
   ],
   "source": [
    "df_aeropuertos = spark.read.load(PATH+\"aeropuertosEtapa3.csv\",format=\"csv\", sep=\",\", inferSchema=\"true\", header=\"true\")\n",
    "print(df_aeropuertos.schema)"
   ]
  },
  {
   "cell_type": "code",
   "execution_count": 5,
   "metadata": {},
   "outputs": [],
   "source": [
    "df_aeropuertos = df_aeropuertos.withColumn(\"longitud_pista\",df_aeropuertos[\"longitud_pista\"].cast(FloatType()))\n",
    "df_aeropuertos = df_aeropuertos.withColumn(\"ancho_pista\",df_aeropuertos[\"ancho_pista\"].cast(FloatType()))\n",
    "df_aeropuertos = df_aeropuertos.withColumn(\"pbmo\",df_aeropuertos[\"pbmo\"].cast(FloatType()))\n",
    "df_aeropuertos = df_aeropuertos.withColumn(\"numero_vuelos_origen\",df_aeropuertos[\"numero_vuelos_origen\"].cast('int'))\n",
    "df_aeropuertos = df_aeropuertos.withColumn(\"gcd_departamento\",df_aeropuertos[\"gcd_departamento\"].cast(StringType()))\n",
    "df_aeropuertos = df_aeropuertos.withColumn(\"gcd_municipio\",df_aeropuertos[\"gcd_municipio\"].cast(StringType()))\n",
    "df_aeropuertos = df_aeropuertos.withColumn('fecha_construccion',to_date(df_aeropuertos.fecha_construccion, 'yyyy-mm-dd'))\n",
    "df_aeropuertos = df_aeropuertos.withColumn('fecha_vigencia',to_date(df_aeropuertos.fecha_vigencia, 'yyyy-mm-dd'))\n",
    "df_aeropuertos = df_aeropuertos.withColumn(\"resolucion\",df_aeropuertos[\"resolucion\"].cast(StringType()))\n",
    "df_aeropuertos = df_aeropuertos.withColumn(\"latitud\",df_aeropuertos[\"latitud\"].cast(FloatType()))\n",
    "df_aeropuertos = df_aeropuertos.withColumn(\"longitud\",df_aeropuertos[\"longitud\"].cast(FloatType()))\n",
    "df_aeropuertos = df_aeropuertos.withColumn(\"Ano\",df_aeropuertos[\"Ano\"].cast(StringType()))\n",
    "\n",
    "#Eliminar columnas y otros ajustes\n",
    "df_aeropuertos = df_aeropuertos.drop(col('iata'))\n",
    "df_aeropuertos = df_aeropuertos.fillna({'pbmo': 0, 'resolucion': 0, 'propietario': 0})\n",
    "df_aeropuertos = df_aeropuertos.withColumn('id_aeropuerto', monotonically_increasing_id())\n",
    "\n",
    "#Organizar columnas\n",
    "df_aeropuertos = df_aeropuertos.select('id_aeropuerto','sigla','nombre','categoria','clase', 'tipo','municipio',\n",
    "                                       'departamento','propietario', 'explotador','resolucion','fecha_construccion',\n",
    "                                       'fecha_vigencia','Ano','latitud','longitud','elevacion','numero_vuelos_origen',\n",
    "                                       'longitud_pista','ancho_pista','pbmo')"
   ]
  },
  {
   "cell_type": "code",
   "execution_count": 6,
   "metadata": {},
   "outputs": [],
   "source": [
    "# IDENTIFICAR REGISTRO CON ESTADO ACTUAL DEL AEROPUERTO\n",
    "#Se utiliza un Window para extraer, del dataframe pasado por parámetro #Es decir, por cada llave natural, extrae la última versión.\n",
    "df2_aeropuertos = df_aeropuertos.alias('df2_aeropuertos')\n",
    "window = Window.partitionBy(df2_aeropuertos['sigla']).orderBy(df2_aeropuertos['Ano'].desc())\n",
    "df2_aeropuertos = df2_aeropuertos.select('*', f.rank().over(window).alias('rank')).filter(f.col('rank') == 1) \n",
    "df2_aeropuertos = df2_aeropuertos.drop('rank')\n",
    "#Ajustar nombres en nuevo DF para poder hacer el join con el df original\n",
    "df2_aeropuertos = df2_aeropuertos.selectExpr('id_aeropuerto','Ano as Ano_2')\n",
    "#Realiza left join entre df_aeropuertos y df2_aeropuertos\n",
    "df = df_aeropuertos.join(df2_aeropuertos, how = 'left', on ='id_aeropuerto')\n",
    "\n",
    "#estado_actual = No, registros anteriores de modificación del aerorpuerto\n",
    "#estado_actual = Si, último registro de modificación del aeropuerto\n",
    "df = df.withColumn('estado_actual', f.when(df['Ano_2'].isNull(), 'No').otherwise('Si'))\n",
    "df = df.withColumn('fecha_vigencia_final', f.when(df['estado_actual'] == 'Si', f.to_date(f.lit('2199-12-31'), 'yyyy-MM-dd')).\n",
    "                   otherwise(f.to_date(concat(col('Ano'),f.lit('-12-31')), 'yyyy-MM-dd')))\n",
    "\n",
    "# IDENTIFICAR PRIMER REGISTRO PARA ASIGNAR FECHA VIGENCIA INICIAL\n",
    "#Se utiliza un Window para extraer, del dataframe pasado por parámetro #Es decir, por cada llave natural, extrae la última versión.\n",
    "df2_aeropuertos = df_aeropuertos.alias('df2_aeropuertos')\n",
    "window = Window.partitionBy(df2_aeropuertos['sigla']).orderBy(df2_aeropuertos['Ano'].asc())\n",
    "df2_aeropuertos = df2_aeropuertos.select('*', f.rank().over(window).alias('rank')).filter(f.col('rank') == 1) \n",
    "df2_aeropuertos = df2_aeropuertos.drop('rank')\n",
    "#Ajustar nombres en nuevo DF para poder hacer el join con el df original\n",
    "df2_aeropuertos = df2_aeropuertos.selectExpr('id_aeropuerto','fecha_construccion as fecha_vigencia_inicial','Ano as Ano_3')\n",
    "#Realiza left join entre df_aeropuertos y df2_aeropuertos\n",
    "df = df.join(df2_aeropuertos, how = 'left', on ='id_aeropuerto')\n",
    "\n",
    "#estado_inicial = No, registros posteriores de modificación del aerorpuerto\n",
    "#estado_inicial = Si, primer registro de construcción del aeropuerto\n",
    "df = df.withColumn('estado_inicial', f.when(df['Ano_3'].isNull(), 'No').otherwise('Si'))\n",
    "df = df.withColumn('fecha_vigencia_inicial', f.when(df['estado_inicial'] == 'Si', df['fecha_construccion']).\n",
    "                   otherwise(f.to_date(concat(col('Ano'),f.lit('-01-01')), 'yyyy-MM-dd')))\n",
    "\n",
    "# Seleccionar columnas para archivo csv\n",
    "df_aeropuertos = df.select('id_aeropuerto','sigla','nombre','categoria','clase','tipo','municipio','departamento',\n",
    " 'propietario','explotador','resolucion','fecha_construccion','fecha_vigencia','Ano',\n",
    "          'latitud','longitud','elevacion','numero_vuelos_origen','longitud_pista','ancho_pista','pbmo',\n",
    "          'estado_actual','fecha_vigencia_inicial','fecha_vigencia_final')\n"
   ]
  },
  {
   "cell_type": "code",
   "execution_count": 7,
   "metadata": {
    "scrolled": true
   },
   "outputs": [
    {
     "name": "stdout",
     "output_type": "stream",
     "text": [
      "+--------------------+------------------+--------------+----+-------------+----------------------+--------------------+\n",
      "|              nombre|fecha_construccion|longitud_pista| Ano|estado_actual|fecha_vigencia_inicial|fecha_vigencia_final|\n",
      "+--------------------+------------------+--------------+----+-------------+----------------------+--------------------+\n",
      "|             LA ISLA|        2015-01-05|        1079.0|2015|           No|            2015-01-05|          2015-12-31|\n",
      "|             LA ISLA|        2015-01-05|        1321.0|2016|           No|            2016-01-01|          2016-12-31|\n",
      "|        LA ESCONDIDA|        2013-01-26|        2141.0|2014|           No|            2013-01-26|          2014-12-31|\n",
      "|        LA ESCONDIDA|        2013-01-26|        3853.0|2015|           No|            2015-01-01|          2015-12-31|\n",
      "|        LA ESCONDIDA|        2013-01-26|        6667.0|2016|           No|            2016-01-01|          2016-12-31|\n",
      "|           MORICHITO|        2009-01-07|        1361.0|2014|           No|            2009-01-07|          2014-12-31|\n",
      "|           MORICHITO|        2009-01-07|        1442.0|2015|           No|            2015-01-01|          2015-12-31|\n",
      "|           MORICHITO|        2009-01-07|        2411.0|2016|           No|            2016-01-01|          2016-12-31|\n",
      "|CAROLINA DEL PRIN...|        2013-01-19|         452.0|2014|           No|            2013-01-19|          2014-12-31|\n",
      "|CAROLINA DEL PRIN...|        2013-01-19|         518.0|2015|           No|            2015-01-01|          2015-12-31|\n",
      "|CAROLINA DEL PRIN...|        2013-01-19|         982.0|2016|           No|            2016-01-01|          2016-12-31|\n",
      "|               DUBAI|        2013-01-20|         426.0|2014|           No|            2013-01-20|          2014-12-31|\n",
      "|               DUBAI|        2013-01-20|         814.0|2015|           No|            2015-01-01|          2015-12-31|\n",
      "|               DUBAI|        2013-01-20|        1592.0|2016|           No|            2016-01-01|          2016-12-31|\n",
      "|          EL TRIUNFO|        2014-01-11|         630.0|2014|           No|            2014-01-11|          2014-12-31|\n",
      "|          EL TRIUNFO|        2014-01-11|         363.0|2015|           No|            2015-01-01|          2015-12-31|\n",
      "|          EL TRIUNFO|        2014-01-11|           5.0|2016|           No|            2016-01-01|          2016-12-31|\n",
      "|  BARU - HIDROPUERTO|        2012-01-25|         269.0|2014|           No|            2012-01-25|          2014-12-31|\n",
      "|  BARU - HIDROPUERTO|        2012-01-25|         204.0|2015|           No|            2015-01-01|          2015-12-31|\n",
      "|  BARU - HIDROPUERTO|        2012-01-25|         106.0|2016|           No|            2016-01-01|          2016-12-31|\n",
      "+--------------------+------------------+--------------+----+-------------+----------------------+--------------------+\n",
      "only showing top 20 rows\n",
      "\n"
     ]
    }
   ],
   "source": [
    "df_aeropuertos.select('nombre','fecha_construccion','longitud_pista','Ano','estado_actual','fecha_vigencia_inicial','fecha_vigencia_final').show(20)"
   ]
  },
  {
   "cell_type": "code",
   "execution_count": 8,
   "metadata": {},
   "outputs": [],
   "source": [
    "# Creación tabla pivote para id_aeropuerto y sigla\n",
    "df_aeropuertos_id = df.where(df['estado_actual'] == 'Si')\n",
    "df_aeropuertos_id = df_aeropuertos_id.select('sigla','id_aeropuerto')"
   ]
  },
  {
   "cell_type": "markdown",
   "metadata": {},
   "source": [
    "### 3.2. Ajuste información del archivo Matriz_distancias.csv"
   ]
  },
  {
   "cell_type": "code",
   "execution_count": 9,
   "metadata": {
    "scrolled": false
   },
   "outputs": [],
   "source": [
    "# df_distancias = spark.read.load(PATH+\"matriz_distancias.csv\",format=\"csv\", sep=\",\", inferSchema=\"true\", header=\"true\")\n",
    "# df_cobertura = spark.read.load(PATH+\"cobertura.csv\",format=\"csv\", sep=\",\", inferSchema=\"true\", header=\"true\")"
   ]
  },
  {
   "cell_type": "code",
   "execution_count": 10,
   "metadata": {},
   "outputs": [],
   "source": [
    "#print(df_distancias.schema)"
   ]
  },
  {
   "cell_type": "code",
   "execution_count": 11,
   "metadata": {},
   "outputs": [],
   "source": [
    "#Número de columnas\n",
    "# len(df_distancias.columns)\n",
    "#Ajustar encabezados\n",
    "# df_distancias = df_distancias.withColumnRenamed('Unnamed: 0', 'centro_poblado')\n",
    "# df_distancias = df_distancias.drop('LA PONDEROSA', 'SAN LUIS', 'EL RODEO', 'CAMPO ALEGRE', 'AGUA BLANCA', 'EL CORAJE', 'BECERRIL')"
   ]
  },
  {
   "cell_type": "code",
   "execution_count": 12,
   "metadata": {},
   "outputs": [],
   "source": [
    "# df_distancias = df_distancias.withColumn(\"LA ESCONDIDA\",df_distancias[\"LA ESCONDIDA\"].cast(FloatType()))"
   ]
  },
  {
   "cell_type": "code",
   "execution_count": 13,
   "metadata": {},
   "outputs": [],
   "source": [
    "# centros poblados y departamentos de Matriz_distancias.csv\n",
    "# df_centros_poblados = df_distancias.select('centro_poblado').distinct()\n",
    "\n",
    "# centros poblados y departamentos de Aeropuertos.csv\n",
    "# df_temporal = df_aeropuertos.select('centro_poblado').distinct()\n",
    "\n",
    "# creación tabla Centros Poblados\n",
    "# df_centros_poblados = df_centros_poblados.join(df_temporal, how = 'left', on = 'centro_poblado')"
   ]
  },
  {
   "cell_type": "code",
   "execution_count": 14,
   "metadata": {},
   "outputs": [],
   "source": [
    "# df_centros_poblados.schema.names"
   ]
  },
  {
   "cell_type": "code",
   "execution_count": 15,
   "metadata": {
    "scrolled": false
   },
   "outputs": [],
   "source": [
    "# df_aeropuertos.schema.names"
   ]
  },
  {
   "cell_type": "markdown",
   "metadata": {},
   "source": [
    "### 3.3. Ajuste información del archivo Vuelos.csv"
   ]
  },
  {
   "cell_type": "code",
   "execution_count": 16,
   "metadata": {
    "scrolled": true
   },
   "outputs": [
    {
     "name": "stdout",
     "output_type": "stream",
     "text": [
      "StructType(List(StructField(ano,IntegerType,true),StructField(mes,IntegerType,true),StructField(origen,StringType,true),StructField(destino,StringType,true),StructField(tipo_equipo,StringType,true),StructField(tipo_vuelo,StringType,true),StructField(trafico,StringType,true),StructField(empresa,StringType,true),StructField(vuelos,IntegerType,true),StructField(sillas,IntegerType,true),StructField(carga_ofrecida,DoubleType,true),StructField(pasajeros,IntegerType,true),StructField(carga_bordo,DoubleType,true)))\n"
     ]
    }
   ],
   "source": [
    "df_vuelos = spark.read.load(PATH+\"vuelosEtapa3.csv\",format=\"csv\", sep=\",\", inferSchema=\"true\", header=\"true\")\n",
    "print(df_vuelos.schema)"
   ]
  },
  {
   "cell_type": "code",
   "execution_count": 17,
   "metadata": {},
   "outputs": [
    {
     "name": "stdout",
     "output_type": "stream",
     "text": [
      "+---+---+------+-------+-----------+----------+-------+-------+------+------+--------------+---------+-----------+\n",
      "|ano|mes|origen|destino|tipo_equipo|tipo_vuelo|trafico|empresa|vuelos|sillas|carga_ofrecida|pasajeros|carga_bordo|\n",
      "+---+---+------+-------+-----------+----------+-------+-------+------+------+--------------+---------+-----------+\n",
      "|  0|  0|     0|      0|          0|         0|      0|      0|     0|     0|             0|        0|          0|\n",
      "+---+---+------+-------+-----------+----------+-------+-------+------+------+--------------+---------+-----------+\n",
      "\n"
     ]
    }
   ],
   "source": [
    "df_vuelos.select([count(when(isnan(c), c)).alias(c) for c in df_vuelos.columns]).show()"
   ]
  },
  {
   "cell_type": "code",
   "execution_count": 18,
   "metadata": {},
   "outputs": [],
   "source": [
    "df_vuelos = df_vuelos.withColumn(\"vuelos\",df_vuelos[\"vuelos\"].cast('int'))\n",
    "df_vuelos = df_vuelos.withColumn(\"sillas\",df_vuelos[\"sillas\"].cast('int'))\n",
    "df_vuelos = df_vuelos.withColumn(\"pasajeros\",df_vuelos[\"pasajeros\"].cast('int'))\n",
    "df_vuelos = df_vuelos.withColumn(\"carga_ofrecida\",df_vuelos[\"carga_ofrecida\"].cast(FloatType()))\n",
    "df_vuelos = df_vuelos.withColumn(\"carga_bordo\",df_vuelos[\"carga_bordo\"].cast(FloatType()))\n",
    "df_vuelos = df_vuelos.withColumn(\"ano\",df_vuelos[\"ano\"].cast(StringType()))\n",
    "df_vuelos = df_vuelos.withColumn(\"mes\",df_vuelos[\"mes\"].cast(StringType()))"
   ]
  },
  {
   "cell_type": "code",
   "execution_count": 19,
   "metadata": {},
   "outputs": [],
   "source": [
    "df_vuelos = df_vuelos.fillna({'sillas': 0, 'pasajeros': 0})\n",
    "df_vuelos = df_vuelos.withColumn('trafico', regexp_replace('trafico', 'nan', 'N'))"
   ]
  },
  {
   "cell_type": "code",
   "execution_count": 20,
   "metadata": {},
   "outputs": [
    {
     "name": "stdout",
     "output_type": "stream",
     "text": [
      "+---+---+------+-------+-----------+----------+-------+-------+------+------+--------------+---------+-----------+\n",
      "|ano|mes|origen|destino|tipo_equipo|tipo_vuelo|trafico|empresa|vuelos|sillas|carga_ofrecida|pasajeros|carga_bordo|\n",
      "+---+---+------+-------+-----------+----------+-------+-------+------+------+--------------+---------+-----------+\n",
      "|  0|  0|     0|      0|          0|         0|      0|      0|     0|     0|             0|        0|          0|\n",
      "+---+---+------+-------+-----------+----------+-------+-------+------+------+--------------+---------+-----------+\n",
      "\n"
     ]
    }
   ],
   "source": [
    "df_vuelos.select([count(when(isnan(c), c)).alias(c) for c in df_vuelos.columns]).show()"
   ]
  },
  {
   "cell_type": "code",
   "execution_count": 21,
   "metadata": {},
   "outputs": [],
   "source": [
    "ajuste_mes = {'1':'01', '2':'02', '3':'03', '4':'04', '5':'05', '6':'06', '7':'07', '8':'08', '9':'09'}\n",
    "df_vuelos = df_vuelos.na.replace(ajuste_mes,2,'mes')"
   ]
  },
  {
   "cell_type": "code",
   "execution_count": 22,
   "metadata": {},
   "outputs": [],
   "source": [
    "df_vuelos = df_vuelos.withColumn(\"ano_mes\", concat_ws(\"-\",'ano','mes'))"
   ]
  },
  {
   "cell_type": "code",
   "execution_count": 23,
   "metadata": {},
   "outputs": [],
   "source": [
    "# Ajustar valores de sillas o carga desaprovechada, no pueden ser negativos\n",
    "\n",
    "df_vuelos = df_vuelos.withColumn(\n",
    "    'sillas_desaprovechadas',\n",
    "    when(((col(\"sillas\")) - (col(\"pasajeros\")) < 0), 0)\n",
    "    .otherwise((col(\"sillas\")) - (col(\"pasajeros\"))))\n",
    "\n",
    "df_vuelos = df_vuelos.withColumn(\n",
    "    'carga_desaprovechada',\n",
    "    when(((col(\"carga_ofrecida\")) - (col(\"carga_bordo\")) < 0), 0)\n",
    "    .otherwise((col(\"carga_ofrecida\")) - (col(\"carga_bordo\"))))"
   ]
  },
  {
   "cell_type": "code",
   "execution_count": 24,
   "metadata": {},
   "outputs": [],
   "source": [
    "df_vuelos = df_vuelos.withColumn('id_vuelo', monotonically_increasing_id())"
   ]
  },
  {
   "cell_type": "code",
   "execution_count": 25,
   "metadata": {},
   "outputs": [],
   "source": [
    "# Crear tablas y organizar columnas\n",
    "\n",
    "df_atributos_vuelo = df_vuelos.select('id_vuelo','origen','destino','tipo_equipo','empresa','tipo_vuelo','trafico')\n",
    "\n",
    "df_fecha = df_vuelos.select('ano_mes','ano','mes')\n",
    "df_fecha = df_fecha.dropDuplicates((['ano_mes'])).sort('ano_mes')\n",
    "\n",
    "df_vuelos = df_vuelos.select('id_vuelo','ano_mes','vuelos','pasajeros','sillas','sillas_desaprovechadas',\n",
    "                             'carga_ofrecida','carga_bordo','carga_desaprovechada','tipo_equipo')"
   ]
  },
  {
   "cell_type": "code",
   "execution_count": 26,
   "metadata": {},
   "outputs": [
    {
     "data": {
      "text/plain": [
       "['id_vuelo',\n",
       " 'origen',\n",
       " 'destino',\n",
       " 'tipo_equipo',\n",
       " 'empresa',\n",
       " 'tipo_vuelo',\n",
       " 'trafico']"
      ]
     },
     "execution_count": 26,
     "metadata": {},
     "output_type": "execute_result"
    }
   ],
   "source": [
    "df_atributos_vuelo.schema.names"
   ]
  },
  {
   "cell_type": "code",
   "execution_count": 27,
   "metadata": {},
   "outputs": [
    {
     "data": {
      "text/plain": [
       "['ano_mes', 'ano', 'mes']"
      ]
     },
     "execution_count": 27,
     "metadata": {},
     "output_type": "execute_result"
    }
   ],
   "source": [
    "df_fecha.schema.names"
   ]
  },
  {
   "cell_type": "code",
   "execution_count": 28,
   "metadata": {},
   "outputs": [
    {
     "data": {
      "text/plain": [
       "['id_vuelo',\n",
       " 'ano_mes',\n",
       " 'vuelos',\n",
       " 'pasajeros',\n",
       " 'sillas',\n",
       " 'sillas_desaprovechadas',\n",
       " 'carga_ofrecida',\n",
       " 'carga_bordo',\n",
       " 'carga_desaprovechada',\n",
       " 'tipo_equipo']"
      ]
     },
     "execution_count": 28,
     "metadata": {},
     "output_type": "execute_result"
    }
   ],
   "source": [
    "df_vuelos.schema.names"
   ]
  },
  {
   "cell_type": "markdown",
   "metadata": {},
   "source": [
    "### 3.5 Ajuste información del archivo Tipo de equipo"
   ]
  },
  {
   "cell_type": "code",
   "execution_count": 29,
   "metadata": {},
   "outputs": [
    {
     "name": "stdout",
     "output_type": "stream",
     "text": [
      "StructType(List(StructField(AircraftDescription,StringType,true),StructField(Description,StringType,true),StructField(Designator,StringType,true),StructField(EngineCount,StringType,true),StructField(EngineType,StringType,true),StructField(ManufacturerCode,StringType,true),StructField(ModelFullName,StringType,true),StructField(WTC,StringType,true)))\n"
     ]
    }
   ],
   "source": [
    "df_tipo_equipo_fuente = spark.read.load(PATH+\"doc8643AircraftTypes.csv\",format=\"csv\", sep=\",\", inferSchema=\"true\", header=\"true\")\n",
    "print(df_tipo_equipo_fuente.schema)"
   ]
  },
  {
   "cell_type": "code",
   "execution_count": 30,
   "metadata": {},
   "outputs": [
    {
     "name": "stdout",
     "output_type": "stream",
     "text": [
      "+-------------------+-----------+----------+-----------+----------+--------------------+--------------+---+\n",
      "|AircraftDescription|Description|Designator|EngineCount|EngineType|    ManufacturerCode| ModelFullName|WTC|\n",
      "+-------------------+-----------+----------+-----------+----------+--------------------+--------------+---+\n",
      "|          LandPlane|        L2J|      J328|          2|       Jet|328 SUPPORT SERVICES|Dornier 328JET|  M|\n",
      "|          LandPlane|        L1P|      UL45|          1|    Piston|              3XTRIM|     450 Ultra|  L|\n",
      "|          LandPlane|        L1P|      UL45|          1|    Piston|              3XTRIM|         Ultra|  L|\n",
      "|          LandPlane|        L1P|      TR55|          1|    Piston|              3XTRIM|    550 Trener|  L|\n",
      "|          LandPlane|        L1P|      TR55|          1|    Piston|              3XTRIM|      Trener  |  L|\n",
      "+-------------------+-----------+----------+-----------+----------+--------------------+--------------+---+\n",
      "only showing top 5 rows\n",
      "\n"
     ]
    }
   ],
   "source": [
    "df_tipo_equipo_fuente.show(5)"
   ]
  },
  {
   "cell_type": "code",
   "execution_count": 31,
   "metadata": {},
   "outputs": [
    {
     "name": "stdout",
     "output_type": "stream",
     "text": [
      "+-------------------+-----------+----------+-----------+----------+----------------+-------------+---+\n",
      "|AircraftDescription|Description|Designator|EngineCount|EngineType|ManufacturerCode|ModelFullName|WTC|\n",
      "+-------------------+-----------+----------+-----------+----------+----------------+-------------+---+\n",
      "|                  0|          0|         0|          0|         0|               0|            0|  0|\n",
      "+-------------------+-----------+----------+-----------+----------+----------------+-------------+---+\n",
      "\n"
     ]
    }
   ],
   "source": [
    "# Verificación de datos nulos\n",
    "df_tipo_equipo_fuente.select([count(when(isnan(c) | col(c).isNull(), c)).alias(c) for c in df_tipo_equipo_fuente.columns]).show()"
   ]
  },
  {
   "cell_type": "code",
   "execution_count": 32,
   "metadata": {},
   "outputs": [
    {
     "name": "stdout",
     "output_type": "stream",
     "text": [
      "+-------------------+\n",
      "|AircraftDescription|\n",
      "+-------------------+\n",
      "|          LandPlane|\n",
      "|           SeaPlane|\n",
      "|         Gyrocopter|\n",
      "|         Helicopter|\n",
      "|          Tilt-wing|\n",
      "+-------------------+\n",
      "only showing top 5 rows\n",
      "\n",
      "6\n"
     ]
    }
   ],
   "source": [
    "# Perfilamiento AircraftDescription\n",
    "\n",
    "df_tipo_equipo_fuente.select('AircraftDescription').distinct().show(5)\n",
    "print(df_tipo_equipo_fuente.select('AircraftDescription').distinct().count())"
   ]
  },
  {
   "cell_type": "code",
   "execution_count": 33,
   "metadata": {},
   "outputs": [
    {
     "name": "stdout",
     "output_type": "stream",
     "text": [
      "+-----------+\n",
      "|Description|\n",
      "+-----------+\n",
      "|        A1P|\n",
      "|        L2T|\n",
      "|        L2E|\n",
      "|        L4P|\n",
      "|        L3J|\n",
      "+-----------+\n",
      "only showing top 5 rows\n",
      "\n"
     ]
    },
    {
     "data": {
      "text/plain": [
       "37"
      ]
     },
     "execution_count": 33,
     "metadata": {},
     "output_type": "execute_result"
    }
   ],
   "source": [
    "# Perfilamiento Description\n",
    "\n",
    "df_tipo_equipo_fuente.select('Description').distinct().show(5)\n",
    "df_tipo_equipo_fuente.select('Description').distinct().count()"
   ]
  },
  {
   "cell_type": "code",
   "execution_count": 34,
   "metadata": {},
   "outputs": [
    {
     "name": "stdout",
     "output_type": "stream",
     "text": [
      "+----------+\n",
      "|Designator|\n",
      "+----------+\n",
      "|      AB18|\n",
      "|      VO10|\n",
      "|      LAKX|\n",
      "|       A23|\n",
      "|      BE30|\n",
      "+----------+\n",
      "only showing top 5 rows\n",
      "\n"
     ]
    },
    {
     "data": {
      "text/plain": [
       "2640"
      ]
     },
     "execution_count": 34,
     "metadata": {},
     "output_type": "execute_result"
    }
   ],
   "source": [
    "# Perfilamiento Designator\n",
    "\n",
    "df_tipo_equipo_fuente.select('Designator').distinct().show(5)\n",
    "df_tipo_equipo_fuente.select('Designator').distinct().count()"
   ]
  },
  {
   "cell_type": "code",
   "execution_count": 35,
   "metadata": {},
   "outputs": [
    {
     "name": "stdout",
     "output_type": "stream",
     "text": [
      "+-----------+\n",
      "|EngineCount|\n",
      "+-----------+\n",
      "|          3|\n",
      "|          8|\n",
      "|          6|\n",
      "|          C|\n",
      "|          1|\n",
      "+-----------+\n",
      "only showing top 5 rows\n",
      "\n"
     ]
    },
    {
     "data": {
      "text/plain": [
       "7"
      ]
     },
     "execution_count": 35,
     "metadata": {},
     "output_type": "execute_result"
    }
   ],
   "source": [
    "# Perfilamiento EngineCount\n",
    "\n",
    "df_tipo_equipo_fuente.select('EngineCount').distinct().show(5)\n",
    "df_tipo_equipo_fuente.select('EngineCount').distinct().count()"
   ]
  },
  {
   "cell_type": "code",
   "execution_count": 36,
   "metadata": {},
   "outputs": [
    {
     "name": "stdout",
     "output_type": "stream",
     "text": [
      "+--------------------+\n",
      "|          EngineType|\n",
      "+--------------------+\n",
      "|Turboprop/Turboshaft|\n",
      "|              Rocket|\n",
      "|                 Jet|\n",
      "|            Electric|\n",
      "|              Piston|\n",
      "+--------------------+\n",
      "\n"
     ]
    },
    {
     "data": {
      "text/plain": [
       "5"
      ]
     },
     "execution_count": 36,
     "metadata": {},
     "output_type": "execute_result"
    }
   ],
   "source": [
    "# Perfilamiento EngineType\n",
    "\n",
    "df_tipo_equipo_fuente.select('EngineType').distinct().show(5)\n",
    "df_tipo_equipo_fuente.select('EngineType').distinct().count()"
   ]
  },
  {
   "cell_type": "code",
   "execution_count": 37,
   "metadata": {},
   "outputs": [
    {
     "name": "stdout",
     "output_type": "stream",
     "text": [
      "+----------------+\n",
      "|ManufacturerCode|\n",
      "+----------------+\n",
      "|           GREGA|\n",
      "|      HOWARD (2)|\n",
      "|         JOHNSON|\n",
      "|         OMA SUD|\n",
      "|  TEXAS AIRPLANE|\n",
      "+----------------+\n",
      "only showing top 5 rows\n",
      "\n"
     ]
    },
    {
     "data": {
      "text/plain": [
       "1539"
      ]
     },
     "execution_count": 37,
     "metadata": {},
     "output_type": "execute_result"
    }
   ],
   "source": [
    "# Perfilamiento ManufacturerCode\n",
    "\n",
    "df_tipo_equipo_fuente.select('ManufacturerCode').distinct().show(5)\n",
    "df_tipo_equipo_fuente.select('ManufacturerCode').distinct().count()"
   ]
  },
  {
   "cell_type": "code",
   "execution_count": 38,
   "metadata": {},
   "outputs": [
    {
     "name": "stdout",
     "output_type": "stream",
     "text": [
      "+-------------+\n",
      "|ModelFullName|\n",
      "+-------------+\n",
      "|      Loisirs|\n",
      "|   Loadmaster|\n",
      "|        Z-131|\n",
      "|     15 Sedan|\n",
      "|        H-175|\n",
      "+-------------+\n",
      "only showing top 5 rows\n",
      "\n"
     ]
    },
    {
     "data": {
      "text/plain": [
       "7660"
      ]
     },
     "execution_count": 38,
     "metadata": {},
     "output_type": "execute_result"
    }
   ],
   "source": [
    "# Perfilamiento ModelFullName\n",
    "\n",
    "df_tipo_equipo_fuente.select('ModelFullName').distinct().show(5)\n",
    "df_tipo_equipo_fuente.select('ModelFullName').distinct().count()"
   ]
  },
  {
   "cell_type": "code",
   "execution_count": 39,
   "metadata": {},
   "outputs": [
    {
     "name": "stdout",
     "output_type": "stream",
     "text": [
      "+---+\n",
      "|WTC|\n",
      "+---+\n",
      "|  M|\n",
      "|  L|\n",
      "|L/M|\n",
      "|  H|\n",
      "+---+\n",
      "\n"
     ]
    },
    {
     "data": {
      "text/plain": [
       "4"
      ]
     },
     "execution_count": 39,
     "metadata": {},
     "output_type": "execute_result"
    }
   ],
   "source": [
    "# Perfilamiento WTC\n",
    "\n",
    "df_tipo_equipo_fuente.select('WTC').distinct().show(5)\n",
    "df_tipo_equipo_fuente.select('WTC').distinct().count()"
   ]
  },
  {
   "cell_type": "code",
   "execution_count": 40,
   "metadata": {},
   "outputs": [
    {
     "name": "stdout",
     "output_type": "stream",
     "text": [
      "(2640, 7)\n"
     ]
    },
    {
     "data": {
      "text/plain": [
       "['tipo_equipo',\n",
       " 'tipo_aeronave',\n",
       " 'codigo_descripcion',\n",
       " 'EngineCount',\n",
       " 'numero_motores',\n",
       " 'fabricante',\n",
       " 'WTC']"
      ]
     },
     "execution_count": 40,
     "metadata": {},
     "output_type": "execute_result"
    }
   ],
   "source": [
    "df_tipo_equipo_fuente = df_tipo_equipo_fuente.selectExpr('Designator as tipo_equipo','AircraftDescription as tipo_aeronave',\n",
    "                                                         'Description as codigo_descripcion', 'EngineCount',\n",
    "                                                         'EngineType as numero_motores', 'ManufacturerCode as fabricante',\n",
    "                                                         'WTC')\n",
    "df_tipo_equipo_fuente = df_tipo_equipo_fuente.distinct()\n",
    "\n",
    "#Se utiliza un Window para extraer, del dataframe pasado por parámetro #Es decir, por cada llave natural, extrae la última versión.\n",
    "df2_tipo_equipo_fuente = df_tipo_equipo_fuente.alias('df2_tipo_equipo_fuente')\n",
    "window = Window.partitionBy(df2_tipo_equipo_fuente['tipo_equipo']).orderBy(df2_tipo_equipo_fuente['fabricante'].desc())\n",
    "df2_tipo_equipo_fuente = df2_tipo_equipo_fuente.select('*', f.rank().over(window).alias('rank')).filter(f.col('rank') == 1) \n",
    "df2_tipo_equipo_fuente = df2_tipo_equipo_fuente.drop('rank')\n",
    "print((df2_tipo_equipo_fuente.count(), len(df2_tipo_equipo_fuente.columns)))\n",
    "df2_tipo_equipo_fuente.schema.names"
   ]
  },
  {
   "cell_type": "code",
   "execution_count": 41,
   "metadata": {
    "scrolled": true
   },
   "outputs": [
    {
     "data": {
      "text/plain": [
       "140"
      ]
     },
     "execution_count": 41,
     "metadata": {},
     "output_type": "execute_result"
    }
   ],
   "source": [
    "# Perfilamiento Tipo de equipo de tabla vuelos\n",
    "df_tipo_equipo_vuelos = df_vuelos.select('tipo_equipo').distinct()\n",
    "df_tipo_equipo_vuelos.select('tipo_equipo').count()"
   ]
  },
  {
   "cell_type": "code",
   "execution_count": 42,
   "metadata": {
    "scrolled": true
   },
   "outputs": [
    {
     "name": "stdout",
     "output_type": "stream",
     "text": [
      "+-----------+-------------+------------------+-----------+--------------+----------+---+\n",
      "|tipo_equipo|tipo_aeronave|codigo_descripcion|EngineCount|numero_motores|fabricante|WTC|\n",
      "+-----------+-------------+------------------+-----------+--------------+----------+---+\n",
      "|          0|            0|                 0|          0|             0|         0|  0|\n",
      "+-----------+-------------+------------------+-----------+--------------+----------+---+\n",
      "\n",
      "(140, 7)\n"
     ]
    },
    {
     "data": {
      "text/plain": [
       "['tipo_equipo',\n",
       " 'tipo_aeronave',\n",
       " 'codigo_descripcion',\n",
       " 'EngineCount',\n",
       " 'numero_motores',\n",
       " 'fabricante',\n",
       " 'WTC']"
      ]
     },
     "execution_count": 42,
     "metadata": {},
     "output_type": "execute_result"
    }
   ],
   "source": [
    "#Ajuste tabla con dimensión Tipo de equipo\n",
    "\n",
    "df_tipo_equipo = df2_tipo_equipo_fuente.join(df_tipo_equipo_vuelos, how = 'rightouter', on ='tipo_equipo')\n",
    "df_tipo_equipo = df_tipo_equipo.na.fill(\"-\")\n",
    "df_tipo_equipo.select([count(when(isnan(c) | col(c).isNull(), c)).alias(c) for c in df_tipo_equipo.columns]).show()\n",
    "print((df_tipo_equipo.count(), len(df_tipo_equipo.columns)))\n",
    "df_tipo_equipo.schema.names"
   ]
  },
  {
   "cell_type": "code",
   "execution_count": 43,
   "metadata": {},
   "outputs": [
    {
     "data": {
      "text/plain": [
       "140"
      ]
     },
     "execution_count": 43,
     "metadata": {},
     "output_type": "execute_result"
    }
   ],
   "source": [
    "df_tipo_equipo.select('tipo_equipo').count()"
   ]
  },
  {
   "cell_type": "markdown",
   "metadata": {},
   "source": [
    "### 3.6. Ajuste información del archivo Cobertura.csv"
   ]
  },
  {
   "cell_type": "code",
   "execution_count": 44,
   "metadata": {},
   "outputs": [],
   "source": [
    "# print(df_cobertura.schema)"
   ]
  },
  {
   "cell_type": "code",
   "execution_count": 45,
   "metadata": {},
   "outputs": [],
   "source": [
    "#Número de columnas\n",
    "# len(df_cobertura.columns)\n",
    "#Ajustar encabezados\n",
    "# df_cobertura = df_cobertura.withColumnRenamed('Aeropuerto', 'aeropuerto')\n",
    "# df_cobertura = df_cobertura.withColumnRenamed('Distancia(Km)','Distancia')\n",
    "# df_cobertura.schema.names"
   ]
  },
  {
   "cell_type": "code",
   "execution_count": 46,
   "metadata": {},
   "outputs": [],
   "source": [
    "# df_cobertura = df_cobertura.withColumn(\"Distancia\",df_cobertura[\"Distancia\"].cast(FloatType()))\n",
    "# df_cobertura = df_cobertura.withColumn(\"D_Aerodromo\",df_cobertura[\"D_Aerodromo\"].cast(FloatType()))\n",
    "# df_cobertura = df_cobertura.withColumn(\"D_Regional\",df_cobertura[\"D_Regional\"].cast(FloatType()))\n",
    "# df_cobertura = df_cobertura.withColumn(\"D_Nacional\",df_cobertura[\"D_Nacional\"].cast(FloatType()))\n",
    "# df_cobertura = df_cobertura.withColumn(\"D_Internacional\",df_cobertura[\"D_Internacional\"].cast(FloatType()))"
   ]
  },
  {
   "cell_type": "code",
   "execution_count": null,
   "metadata": {},
   "outputs": [],
   "source": []
  },
  {
   "cell_type": "markdown",
   "metadata": {},
   "source": [
    "### 3.7. Creación archivos csv"
   ]
  },
  {
   "cell_type": "code",
   "execution_count": 47,
   "metadata": {},
   "outputs": [],
   "source": [
    "#df_aeropuertos.toPandas().to_csv(PATH+'Aeropuertos_ETL_Historia.csv')\n",
    "#df_vuelos.toPandas().to_csv(PATH+'Vuelos_ETL_Historia.csv')\n",
    "#df_atributos_vuelo.toPandas().to_csv(PATH+'Atributos_vuelo_ETL_HistoriaI.csv')\n",
    "#df_fecha.toPandas().to_csv(PATH+'Fecha_ETL_Historia.csv')\n",
    "#df_aeropuertos_id.toPandas().to_csv(PATH+'Aeropuertos_ID_ETL_Historia.csv')\n",
    "df_tipo_equipo.toPandas().to_csv(PATH+'Tipo_equipo.csv')\n",
    "\n",
    "# Se pidieron en la semana 4 pero los descartaron en la Semana 5\n",
    "#df_distancias.toPandas().to_csv(PATH+'Matriz_distancias_ETL_Historia.csv')\n",
    "#df_cobertura.toPandas().to_csv(PATH+'Cobertura_ETL_Historia.csv')\n",
    "#df_centros_poblados.toPandas().to_csv(PATH+'Centros_Poblados_ETL_Historia.csv')"
   ]
  },
  {
   "cell_type": "markdown",
   "metadata": {},
   "source": [
    "### 3.7. Cálculos"
   ]
  },
  {
   "cell_type": "code",
   "execution_count": 48,
   "metadata": {},
   "outputs": [],
   "source": [
    "#df_vuelos.groupBy('ano').agg({'ano': 'count'}).sort('ano').show()"
   ]
  },
  {
   "cell_type": "code",
   "execution_count": 49,
   "metadata": {},
   "outputs": [],
   "source": [
    "#df_vuelos.filter((df_vuelos['pasajeros'] >= 0) & (df_vuelos['sillas'] >= 0)).approxQuantile([\"pasajeros\", \"sillas\", \"carga_ofrecida\", \"carga_bordo\"], [0.5], 0.25)"
   ]
  },
  {
   "cell_type": "code",
   "execution_count": 50,
   "metadata": {},
   "outputs": [],
   "source": [
    "#df_aeropuertos.select('fecha_construccion').show()"
   ]
  },
  {
   "cell_type": "code",
   "execution_count": 51,
   "metadata": {},
   "outputs": [],
   "source": [
    "#df_aeropuertos.groupBy('fecha_construccion').agg({'fecha_construccion': 'count'}).show()"
   ]
  },
  {
   "cell_type": "code",
   "execution_count": 52,
   "metadata": {
    "scrolled": false
   },
   "outputs": [],
   "source": [
    "#df_aeropuertos.describe('ancho_pista','pbmo').show()"
   ]
  },
  {
   "cell_type": "code",
   "execution_count": 53,
   "metadata": {
    "scrolled": false
   },
   "outputs": [],
   "source": [
    "#df_aeropuertos.select('pbmo').filter(df_aeropuertos['pbmo'] >= 0).show()"
   ]
  },
  {
   "cell_type": "code",
   "execution_count": 54,
   "metadata": {},
   "outputs": [],
   "source": [
    "spark.stop()"
   ]
  },
  {
   "cell_type": "code",
   "execution_count": null,
   "metadata": {},
   "outputs": [],
   "source": []
  }
 ],
 "metadata": {
  "kernelspec": {
   "display_name": "Python 3 (ipykernel)",
   "language": "python",
   "name": "python3"
  },
  "language_info": {
   "codemirror_mode": {
    "name": "ipython",
    "version": 3
   },
   "file_extension": ".py",
   "mimetype": "text/x-python",
   "name": "python",
   "nbconvert_exporter": "python",
   "pygments_lexer": "ipython3",
   "version": "3.8.8"
  }
 },
 "nbformat": 4,
 "nbformat_minor": 2
}
