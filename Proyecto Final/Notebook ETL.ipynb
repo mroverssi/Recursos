{
 "cells": [
  {
   "cell_type": "markdown",
   "metadata": {},
   "source": [
    "# ETL"
   ]
  },
  {
   "cell_type": "code",
   "execution_count": 1,
   "metadata": {},
   "outputs": [],
   "source": [
    "\n",
    "from pyspark.sql import SparkSession\n",
    "from pyspark.sql import functions\n",
    "from pyspark.sql.types import StructType\n",
    "from pyspark import SparkContext, SparkConf, SQLContext\n",
    "from pyspark.sql.types import FloatType\n",
    "from pyspark.sql.types import StringType\n",
    "from pyspark.sql.functions import udf\n",
    "import numpy as np\n",
    "from pyspark.sql.functions import isnan, when, count, col\n",
    "from pyspark.rdd import RDD\n",
    "import copy\n",
    "import pandas as pd\n",
    "from pyspark.sql.functions import row_number, monotonically_increasing_id\n",
    "from pyspark.sql import Window\n",
    "from pyspark.sql.functions import regexp_replace\n",
    "from pyspark.sql.functions import udf, isnan, when, count, col, to_date, regexp_replace, concat_ws, abs\n",
    "from pyspark.sql import functions as f\n",
    "from pyspark.sql.functions import monotonically_increasing_id, upper, concat \n",
    "\n",
    "import datetime\n",
    "from pyspark.sql.functions import year, month, dayofmonth"
   ]
  },
  {
   "cell_type": "code",
   "execution_count": 2,
   "metadata": {},
   "outputs": [],
   "source": [
    "spark_context = SparkContext()\n",
    "sql_context = SQLContext(spark_context)\n",
    "spark = sql_context.sparkSession"
   ]
  },
  {
   "cell_type": "code",
   "execution_count": null,
   "metadata": {},
   "outputs": [],
   "source": [
    "# Cargar las bases de datos \n",
    "dfv = sql_context.read.format(\"csv\").option(\"header\", \"true\").option(\"infersSchema\", \"true\").load(\"vuelosEtapa3.csv\")\n",
    "dfa = sql_context.read.format(\"csv\").option(\"header\", \"true\").option(\"infersSchema\", \"true\").load(\"aeropuertosEtapa3.csv\")\n"
   ]
  },
  {
   "cell_type": "code",
   "execution_count": 4,
   "metadata": {},
   "outputs": [],
   "source": [
    "dfe = sql_context.read.format(\"csv\").option(\"header\", \"true\").option(\"infersSchema\", \"true\").load(\"doc8643AircraftTypes.csv\")"
   ]
  },
  {
   "cell_type": "code",
   "execution_count": 5,
   "metadata": {},
   "outputs": [],
   "source": [
    "#Dimension fecha\n",
    "fecha = dfv.alias(\"fecha\")"
   ]
  },
  {
   "cell_type": "code",
   "execution_count": 6,
   "metadata": {},
   "outputs": [],
   "source": [
    "#Transformació, dimensión fecha\n",
    "fecha= fecha.select(\"ano\",\"mes\")"
   ]
  },
  {
   "cell_type": "code",
   "execution_count": 7,
   "metadata": {},
   "outputs": [],
   "source": [
    "#Eliminar duplicados\n",
    "fecha=fecha.drop_duplicates()\n"
   ]
  },
  {
   "cell_type": "code",
   "execution_count": 8,
   "metadata": {},
   "outputs": [],
   "source": [
    "fecha= fecha.withColumn(\"mes\", fecha[\"mes\"].cast(\"integer\"))"
   ]
  },
  {
   "cell_type": "code",
   "execution_count": 9,
   "metadata": {},
   "outputs": [],
   "source": [
    "#Ordenar\n",
    "\n",
    "fecha=fecha.sort(\"ano\",\"mes\")"
   ]
  },
  {
   "cell_type": "code",
   "execution_count": 10,
   "metadata": {},
   "outputs": [],
   "source": [
    "#Agregar columna key\n",
    "fecha = fecha.withColumn(\n",
    "    \"fecha_key\",\n",
    "    row_number().over(Window.orderBy(monotonically_increasing_id()))\n",
    ")"
   ]
  },
  {
   "cell_type": "code",
   "execution_count": 11,
   "metadata": {},
   "outputs": [
    {
     "name": "stdout",
     "output_type": "stream",
     "text": [
      "+-------+-----------------+------------------+-----------------+\n",
      "|summary|              ano|               mes|        fecha_key|\n",
      "+-------+-----------------+------------------+-----------------+\n",
      "|  count|              108|               108|              108|\n",
      "|   mean|           2014.0|               6.5|             54.5|\n",
      "| stddev|2.594026207002917|3.4681461017635296|31.32091952673165|\n",
      "|    min|             2010|                 1|                1|\n",
      "|    25%|           2012.0|                 3|               27|\n",
      "|    50%|           2014.0|                 6|               54|\n",
      "|    75%|           2016.0|                 9|               81|\n",
      "|    max|             2018|                12|              108|\n",
      "+-------+-----------------+------------------+-----------------+\n",
      "\n"
     ]
    },
    {
     "data": {
      "text/plain": [
       "[Row(ano='2010', mes=1, fecha_key=1),\n",
       " Row(ano='2010', mes=2, fecha_key=2),\n",
       " Row(ano='2010', mes=3, fecha_key=3),\n",
       " Row(ano='2010', mes=4, fecha_key=4),\n",
       " Row(ano='2010', mes=5, fecha_key=5)]"
      ]
     },
     "execution_count": 11,
     "metadata": {},
     "output_type": "execute_result"
    }
   ],
   "source": [
    "fecha.summary().show()\n",
    "fecha.head(5)\n"
   ]
  },
  {
   "cell_type": "code",
   "execution_count": 12,
   "metadata": {},
   "outputs": [
    {
     "name": "stdout",
     "output_type": "stream",
     "text": [
      "root\n",
      " |-- ano: string (nullable = true)\n",
      " |-- mes: integer (nullable = true)\n",
      " |-- fecha_key: integer (nullable = true)\n",
      "\n"
     ]
    }
   ],
   "source": [
    "fecha.printSchema()"
   ]
  },
  {
   "cell_type": "code",
   "execution_count": 13,
   "metadata": {},
   "outputs": [],
   "source": [
    "#Exportar\n",
    "fecha.toPandas().to_csv('fecha_v4.csv',index=False)"
   ]
  },
  {
   "cell_type": "code",
   "execution_count": 14,
   "metadata": {},
   "outputs": [],
   "source": [
    "#Dimension empresa\n",
    "empresa=dfv.alias(\"empresa\")"
   ]
  },
  {
   "cell_type": "code",
   "execution_count": 15,
   "metadata": {},
   "outputs": [],
   "source": [
    "#Transformación, dimensión empresa\n",
    "empresa= empresa.select(\"empresa\")"
   ]
  },
  {
   "cell_type": "code",
   "execution_count": 16,
   "metadata": {},
   "outputs": [],
   "source": [
    "#Eliminar duplicados\n",
    "empresa=empresa.drop_duplicates()"
   ]
  },
  {
   "cell_type": "code",
   "execution_count": 17,
   "metadata": {},
   "outputs": [],
   "source": [
    "#Ordenar\n",
    "\n",
    "empresa=empresa.sort(\"empresa\")"
   ]
  },
  {
   "cell_type": "code",
   "execution_count": 18,
   "metadata": {},
   "outputs": [],
   "source": [
    "#Agregar columna key\n",
    "empresa = empresa.withColumn(\n",
    "    \"empresa_key\",\n",
    "    row_number().over(Window.orderBy(monotonically_increasing_id()))\n",
    ")\n",
    "\n"
   ]
  },
  {
   "cell_type": "code",
   "execution_count": 19,
   "metadata": {},
   "outputs": [],
   "source": [
    "#Exportar\n",
    "empresa.toPandas().to_csv('empresa_v4.csv',index=False)\n",
    "\n"
   ]
  },
  {
   "cell_type": "code",
   "execution_count": 20,
   "metadata": {
    "scrolled": true
   },
   "outputs": [
    {
     "name": "stdout",
     "output_type": "stream",
     "text": [
      "+-------+--------------------+-----------------+\n",
      "|summary|             empresa|      empresa_key|\n",
      "+-------+--------------------+-----------------+\n",
      "|  count|                 162|              162|\n",
      "|   mean|                null|             81.5|\n",
      "| stddev|                null|46.90948731333567|\n",
      "|    min|\"SERVICIO AÉREO R...|                1|\n",
      "|    25%|                null|               41|\n",
      "|    50%|                null|               81|\n",
      "|    75%|                null|              122|\n",
      "|    max|      WESTERN GLOBAL|              162|\n",
      "+-------+--------------------+-----------------+\n",
      "\n"
     ]
    },
    {
     "data": {
      "text/plain": [
       "[Row(empresa='\"SERVICIO AÉREO REGIONAL \"\"REGAIR\"\" CIA. LTDA.\"', empresa_key=1),\n",
       " Row(empresa='21 AIR', empresa_key=2),\n",
       " Row(empresa='ABSA', empresa_key=3),\n",
       " Row(empresa='ABX AIR INC SUCURSAL COLOMBIANA', empresa_key=4),\n",
       " Row(empresa='AER CARIBE LIMITADA', empresa_key=5)]"
      ]
     },
     "execution_count": 20,
     "metadata": {},
     "output_type": "execute_result"
    }
   ],
   "source": [
    "empresa.summary().show()\n",
    "empresa.head(5)"
   ]
  },
  {
   "cell_type": "code",
   "execution_count": 21,
   "metadata": {},
   "outputs": [
    {
     "name": "stdout",
     "output_type": "stream",
     "text": [
      "root\n",
      " |-- empresa: string (nullable = true)\n",
      " |-- empresa_key: integer (nullable = true)\n",
      "\n"
     ]
    }
   ],
   "source": [
    "empresa.printSchema()"
   ]
  },
  {
   "cell_type": "code",
   "execution_count": 22,
   "metadata": {},
   "outputs": [],
   "source": [
    "#Dimension tipo de vuelo\n",
    "tipo_de_vuelo = dfv.alias(\"tipo_de_vuelo\")"
   ]
  },
  {
   "cell_type": "code",
   "execution_count": 23,
   "metadata": {},
   "outputs": [],
   "source": [
    "#Transformación tipo de vuelo\n",
    "tipo_de_vuelo= tipo_de_vuelo.select(\"tipo_vuelo\")"
   ]
  },
  {
   "cell_type": "code",
   "execution_count": 24,
   "metadata": {},
   "outputs": [],
   "source": [
    "#Eliminar duplicados\n",
    "tipo_de_vuelo=tipo_de_vuelo.drop_duplicates()"
   ]
  },
  {
   "cell_type": "code",
   "execution_count": 25,
   "metadata": {},
   "outputs": [],
   "source": [
    "#Ordenar\n",
    "tipo_de_vuelo=tipo_de_vuelo.sort(\"tipo_vuelo\")"
   ]
  },
  {
   "cell_type": "code",
   "execution_count": 26,
   "metadata": {},
   "outputs": [],
   "source": [
    "#Agregar columna key\n",
    "tipo_de_vuelo = tipo_de_vuelo.withColumn(\n",
    "    \"tipo_de_vuelo_key\",\n",
    "    row_number().over(Window.orderBy(monotonically_increasing_id()))\n",
    ")\n"
   ]
  },
  {
   "cell_type": "code",
   "execution_count": 27,
   "metadata": {},
   "outputs": [],
   "source": [
    "#Exportar\n",
    "tipo_de_vuelo.toPandas().to_csv('tipo_de_vuelo_v4.csv',index=False)"
   ]
  },
  {
   "cell_type": "code",
   "execution_count": 28,
   "metadata": {},
   "outputs": [
    {
     "name": "stdout",
     "output_type": "stream",
     "text": [
      "+-------+----------+------------------+\n",
      "|summary|tipo_vuelo| tipo_de_vuelo_key|\n",
      "+-------+----------+------------------+\n",
      "|  count|         4|                 4|\n",
      "|   mean|      null|               2.5|\n",
      "| stddev|      null|1.2909944487358056|\n",
      "|    min|         A|                 1|\n",
      "|    25%|      null|                 1|\n",
      "|    50%|      null|                 2|\n",
      "|    75%|      null|                 3|\n",
      "|    max|         T|                 4|\n",
      "+-------+----------+------------------+\n",
      "\n"
     ]
    },
    {
     "data": {
      "text/plain": [
       "[Row(tipo_vuelo='A', tipo_de_vuelo_key=1),\n",
       " Row(tipo_vuelo='C', tipo_de_vuelo_key=2),\n",
       " Row(tipo_vuelo='R', tipo_de_vuelo_key=3),\n",
       " Row(tipo_vuelo='T', tipo_de_vuelo_key=4)]"
      ]
     },
     "execution_count": 28,
     "metadata": {},
     "output_type": "execute_result"
    }
   ],
   "source": [
    "tipo_de_vuelo.summary().show()\n",
    "tipo_de_vuelo.head(5)"
   ]
  },
  {
   "cell_type": "code",
   "execution_count": 29,
   "metadata": {},
   "outputs": [
    {
     "name": "stdout",
     "output_type": "stream",
     "text": [
      "root\n",
      " |-- tipo_vuelo: string (nullable = true)\n",
      " |-- tipo_de_vuelo_key: integer (nullable = true)\n",
      "\n"
     ]
    }
   ],
   "source": [
    "tipo_de_vuelo.printSchema()"
   ]
  },
  {
   "cell_type": "code",
   "execution_count": 30,
   "metadata": {},
   "outputs": [],
   "source": [
    "#Dimension tráfico\n",
    "trafico = dfv.alias(\"trafico\")"
   ]
  },
  {
   "cell_type": "code",
   "execution_count": 31,
   "metadata": {},
   "outputs": [],
   "source": [
    "#Transformación tipo de vuelo\n",
    "trafico= trafico.select(\"trafico\")"
   ]
  },
  {
   "cell_type": "code",
   "execution_count": 32,
   "metadata": {},
   "outputs": [],
   "source": [
    "#Eliminar duplicados\n",
    "trafico=trafico.drop_duplicates()"
   ]
  },
  {
   "cell_type": "code",
   "execution_count": 33,
   "metadata": {},
   "outputs": [],
   "source": [
    "#Sustituir \"nan\" por \"desconocido\"\n",
    "trafico=trafico.withColumn('trafico', regexp_replace('trafico', 'nan', 'desconocido')) "
   ]
  },
  {
   "cell_type": "code",
   "execution_count": 34,
   "metadata": {},
   "outputs": [],
   "source": [
    "#Ordenar\n",
    "\n",
    "trafico=trafico.sort(\"trafico\")"
   ]
  },
  {
   "cell_type": "code",
   "execution_count": 35,
   "metadata": {},
   "outputs": [],
   "source": [
    "#Agregar columna key\n",
    "trafico = trafico.withColumn(\n",
    "    \"trafico_key\",\n",
    "    row_number().over(Window.orderBy(monotonically_increasing_id()))\n",
    ")\n"
   ]
  },
  {
   "cell_type": "code",
   "execution_count": 36,
   "metadata": {},
   "outputs": [],
   "source": [
    "#Exportar\n",
    "trafico.toPandas().to_csv('trafico_v4.csv',index=False)"
   ]
  },
  {
   "cell_type": "code",
   "execution_count": 37,
   "metadata": {
    "scrolled": true
   },
   "outputs": [
    {
     "name": "stdout",
     "output_type": "stream",
     "text": [
      "+-------+-------+------------------+\n",
      "|summary|trafico|       trafico_key|\n",
      "+-------+-------+------------------+\n",
      "|  count|      2|                 2|\n",
      "|   mean|   null|               1.5|\n",
      "| stddev|   null|0.7071067811865476|\n",
      "|    min|      I|                 1|\n",
      "|    25%|   null|                 1|\n",
      "|    50%|   null|                 1|\n",
      "|    75%|   null|                 2|\n",
      "|    max|      N|                 2|\n",
      "+-------+-------+------------------+\n",
      "\n"
     ]
    },
    {
     "data": {
      "text/plain": [
       "[Row(trafico='I', trafico_key=1), Row(trafico='N', trafico_key=2)]"
      ]
     },
     "execution_count": 37,
     "metadata": {},
     "output_type": "execute_result"
    }
   ],
   "source": [
    "trafico.summary().show()\n",
    "trafico.head(5)"
   ]
  },
  {
   "cell_type": "code",
   "execution_count": 38,
   "metadata": {},
   "outputs": [
    {
     "name": "stdout",
     "output_type": "stream",
     "text": [
      "root\n",
      " |-- trafico: string (nullable = true)\n",
      " |-- trafico_key: integer (nullable = true)\n",
      "\n"
     ]
    }
   ],
   "source": [
    "trafico.printSchema()"
   ]
  },
  {
   "cell_type": "code",
   "execution_count": 39,
   "metadata": {},
   "outputs": [],
   "source": [
    "#Dimension aeropuertos\n",
    "df_aeropuertos = dfa.alias(\"df_aeropuertos\")"
   ]
  },
  {
   "cell_type": "code",
   "execution_count": 40,
   "metadata": {},
   "outputs": [
    {
     "data": {
      "text/plain": [
       "DataFrame[sigla: string, iata: string, nombre: string, municipio: string, departamento: string, categoria: string, latitud: string, longitud: string, propietario: string, explotador: string, longitud_pista: string, ancho_pista: string, pbmo: string, elevacion: string, resolucion: string, fecha_construccion: string, fecha_vigencia: string, clase: string, tipo: string, numero_vuelos_origen: string, gcd_departamento: string, gcd_municipio: string, Ano: string]"
      ]
     },
     "execution_count": 40,
     "metadata": {},
     "output_type": "execute_result"
    }
   ],
   "source": [
    "df_aeropuertos"
   ]
  },
  {
   "cell_type": "code",
   "execution_count": 41,
   "metadata": {},
   "outputs": [],
   "source": [
    "#Cambiar el tipo de las columnas\n",
    "df_aeropuertos = df_aeropuertos.withColumn(\"longitud_pista\",df_aeropuertos[\"longitud_pista\"].cast(FloatType()))\n",
    "df_aeropuertos = df_aeropuertos.withColumn(\"ancho_pista\",df_aeropuertos[\"ancho_pista\"].cast(FloatType()))\n",
    "df_aeropuertos = df_aeropuertos.withColumn(\"pbmo\",df_aeropuertos[\"pbmo\"].cast(FloatType()))\n",
    "df_aeropuertos = df_aeropuertos.withColumn(\"numero_vuelos_origen\",df_aeropuertos[\"numero_vuelos_origen\"].cast('int'))\n",
    "df_aeropuertos = df_aeropuertos.withColumn(\"gcd_departamento\",df_aeropuertos[\"gcd_departamento\"].cast(StringType()))\n",
    "df_aeropuertos = df_aeropuertos.withColumn(\"gcd_municipio\",df_aeropuertos[\"gcd_municipio\"].cast(StringType()))\n",
    "df_aeropuertos = df_aeropuertos.withColumn('fecha_construccion',to_date(df_aeropuertos.fecha_construccion, 'yyyy-mm-dd'))\n",
    "df_aeropuertos = df_aeropuertos.withColumn('fecha_vigencia',to_date(df_aeropuertos.fecha_vigencia, 'yyyy-mm-dd'))\n",
    "df_aeropuertos = df_aeropuertos.withColumn(\"resolucion\",df_aeropuertos[\"resolucion\"].cast(StringType()))\n",
    "df_aeropuertos = df_aeropuertos.withColumn(\"latitud\",df_aeropuertos[\"latitud\"].cast(FloatType()))\n",
    "df_aeropuertos = df_aeropuertos.withColumn(\"longitud\",df_aeropuertos[\"longitud\"].cast(FloatType()))\n",
    "df_aeropuertos = df_aeropuertos.withColumn(\"Ano\",df_aeropuertos[\"Ano\"].cast(StringType()))"
   ]
  },
  {
   "cell_type": "code",
   "execution_count": 42,
   "metadata": {},
   "outputs": [],
   "source": [
    "#Eliminar columnas y otros ajustes\n",
    "df_aeropuertos = df_aeropuertos.fillna({'pbmo': 0, 'resolucion': 0, 'propietario': 0})"
   ]
  },
  {
   "cell_type": "code",
   "execution_count": 43,
   "metadata": {},
   "outputs": [],
   "source": [
    "#Ordenar por nombres\n",
    "df_aeropuertos=df_aeropuertos.sort(\"nombre\")"
   ]
  },
  {
   "cell_type": "code",
   "execution_count": 44,
   "metadata": {},
   "outputs": [],
   "source": [
    "#Agregar columna key\n",
    "df_aeropuertos = df_aeropuertos.withColumn(\n",
    "    \"aeropuertos_key\",\n",
    "    row_number().over(Window.orderBy(monotonically_increasing_id()))\n",
    ")\n"
   ]
  },
  {
   "cell_type": "code",
   "execution_count": 45,
   "metadata": {},
   "outputs": [],
   "source": [
    "df_aeropuertos = df_aeropuertos.select('aeropuertos_key','iata','sigla','nombre','categoria','clase', 'tipo','municipio',\n",
    "                                       'departamento','propietario', 'explotador','resolucion','fecha_construccion',\n",
    "                                       'fecha_vigencia','Ano','latitud','longitud','elevacion','numero_vuelos_origen',\n",
    "                                       'longitud_pista','ancho_pista','pbmo')"
   ]
  },
  {
   "cell_type": "code",
   "execution_count": 46,
   "metadata": {},
   "outputs": [],
   "source": [
    "#Copia del dataframe\n",
    "df2_aeropuertos = df_aeropuertos.alias('df2_aeropuertos')"
   ]
  },
  {
   "cell_type": "code",
   "execution_count": 47,
   "metadata": {},
   "outputs": [],
   "source": [
    "#Se utiliza un Window para extraer, del dataframe pasado por parámetro #Es decir, por cada llave natural, extrae la última versión.\n",
    "window = Window.partitionBy(df2_aeropuertos['sigla']).orderBy(df2_aeropuertos['Ano'].desc())\n",
    "df2_aeropuertos = df2_aeropuertos.select('*', f.rank().over(window).alias('rank')).filter(f.col('rank') == 1) \n",
    "df2_aeropuertos = df2_aeropuertos.drop('rank')"
   ]
  },
  {
   "cell_type": "code",
   "execution_count": 48,
   "metadata": {},
   "outputs": [],
   "source": [
    "#Ajustar nombres en nuevo DF para poder hacer el join con el df original\n",
    "df2_aeropuertos = df2_aeropuertos.selectExpr('aeropuertos_key','Ano as Ano_2')"
   ]
  },
  {
   "cell_type": "code",
   "execution_count": 49,
   "metadata": {},
   "outputs": [],
   "source": [
    "#Realiza left join entre df_aeropuertos y df2_aeropuertos\n",
    "df = df_aeropuertos.join(df2_aeropuertos, how = 'left', on ='aeropuertos_key')\n"
   ]
  },
  {
   "cell_type": "code",
   "execution_count": 50,
   "metadata": {},
   "outputs": [
    {
     "name": "stdout",
     "output_type": "stream",
     "text": [
      "+---------------+----+-----+--------------------+---------+-----+----------+--------------+------------+-------------------+--------------------+----------+------------------+--------------+----+-------+--------+---------+--------------------+--------------+-----------+------+-----+\n",
      "|aeropuertos_key|iata|sigla|              nombre|categoria|clase|      tipo|     municipio|departamento|        propietario|          explotador|resolucion|fecha_construccion|fecha_vigencia| Ano|latitud|longitud|elevacion|numero_vuelos_origen|longitud_pista|ancho_pista|  pbmo|Ano_2|\n",
      "+---------------+----+-----+--------------------+---------+-----+----------+--------------+------------+-------------------+--------------------+----------+------------------+--------------+----+-------+--------+---------+--------------------+--------------+-----------+------+-----+\n",
      "|              1|null|  ACP|            ACAPULCO|Aeródromo|   1A| Aerocivil|       Nunchía|    Casanare| YOLANDA CAMACHO V.|MARIA A. PACHECO ...|  4895,000|        2011-01-06|    2014-01-09|2014| 5.4086|-71.8694|    656.0|                   0|          84.0|       15.0|2000.0| null|\n",
      "|              2|null|  ACP|            ACAPULCO|Aeródromo|   1A|   Privado|       Nunchía|    Casanare| YOLANDA CAMACHO V.|MARIA A. PACHECO ...|  4895,000|        2011-01-06|    2014-01-09|2015| 5.4086|-71.8694|    656.0|                   0|          43.0|       15.0|2000.0| null|\n",
      "|              3|null|  ACP|            ACAPULCO|Aeródromo|   1A|   Público|       Nunchía|    Casanare| YOLANDA CAMACHO V.|MARIA A. PACHECO ...|  4895,000|        2011-01-06|    2014-01-09|2016| 5.4086|-71.8694|    656.0|                   0|          10.0|       23.0|2000.0| null|\n",
      "|              4|null|  ACP|            ACAPULCO|Aeródromo|   1A|   Público|       Nunchía|    Casanare| YOLANDA CAMACHO V.|MARIA A. PACHECO ...|  4895,000|        2011-01-06|    2014-01-09|2017| 5.4086|-71.8694|    656.0|                   0|        1502.0|       16.0|2000.0| null|\n",
      "|              5|null|  ACP|            ACAPULCO|Aeródromo|   1A| Aerocivil|       Nunchía|    Casanare| YOLANDA CAMACHO V.|MARIA A. PACHECO ...|  4895,000|        2011-01-06|    2014-01-09|2018| 5.4086|-71.8694|    656.0|                   0|        1903.0|       27.0|2000.0| 2018|\n",
      "|              6|null|  AER|  AEROFLANDES - C.A.|Aeródromo|   UL|Fumigación|       Flandes|      Tolima|        AEROFLANDES|CLUB.ULTR-LA LIBE...|  1211,000|        2013-01-20|    2016-01-10|2014| 4.2171|-74.8454|   1049.0|                   0|         417.0|       17.0| 500.0| null|\n",
      "|              7|null|  AER|  AEROFLANDES - C.A.|Aeródromo|   UL|   Público|       Flandes|      Tolima|        AEROFLANDES|CLUB.ULTR-LA LIBE...|  1211,000|        2013-01-20|    2016-01-10|2015| 4.2171|-74.8454|   1049.0|                   0|         526.0|       29.0| 500.0| null|\n",
      "|              8|null|  AER|  AEROFLANDES - C.A.|Aeródromo|   UL|   Público|       Flandes|      Tolima|        AEROFLANDES|CLUB.ULTR-LA LIBE...|  1211,000|        2013-01-20|    2016-01-10|2016| 4.2171|-74.8454|   1049.0|                   0|         726.0|       54.0| 500.0| null|\n",
      "|              9|null|  AER|  AEROFLANDES - C.A.|Aeródromo|   UL|Fumigación|       Flandes|      Tolima|        AEROFLANDES|CLUB.ULTR-LA LIBE...|  1211,000|        2013-01-20|    2016-01-10|2017| 4.2171|-74.8454|   1049.0|                   0|         254.0|        7.0| 500.0| null|\n",
      "|             10|null|  AER|  AEROFLANDES - C.A.|Aeródromo|   UL|Fumigación|       Flandes|      Tolima|        AEROFLANDES|CLUB.ULTR-LA LIBE...|  1211,000|        2013-01-20|    2016-01-10|2018| 4.2171|-74.8454|   1049.0|                   0|         486.0|        2.0| 500.0| 2018|\n",
      "|             11|null|  9MY|          AFGANISTAN|Aeródromo|   1A|   Público|Paz de Ariporo|    Casanare|JOSE IVAN CORTES P.|SANDRA PATRICIA YATE|  2131,000|        2014-01-25|    2017-01-06|2014|  5.886| -71.408|    577.0|                   0|        1700.0|       14.0|2000.0| null|\n",
      "|             12|null|  9MY|          AFGANISTAN|Aeródromo|   1A|Fumigación|Paz de Ariporo|    Casanare|JOSE IVAN CORTES P.|SANDRA PATRICIA YATE|  2131,000|        2014-01-25|    2017-01-06|2015|  5.886| -71.408|    577.0|                   0|        1765.0|       22.0|2000.0| null|\n",
      "|             13|null|  9MY|          AFGANISTAN|Aeródromo|   1A|   Privado|Paz de Ariporo|    Casanare|JOSE IVAN CORTES P.|SANDRA PATRICIA YATE|  2131,000|        2014-01-25|    2017-01-06|2016|  5.886| -71.408|    577.0|                   0|        2265.0|       33.0|2000.0| null|\n",
      "|             14|null|  9MY|          AFGANISTAN|Aeródromo|   1A|Fumigación|Paz de Ariporo|    Casanare|JOSE IVAN CORTES P.|SANDRA PATRICIA YATE|  2131,000|        2014-01-25|    2017-01-06|2017|  5.886| -71.408|    577.0|                   0|         125.0|       13.0|2000.0| null|\n",
      "|             15|null|  9MY|          AFGANISTAN|Aeródromo|   1A|   Privado|Paz de Ariporo|    Casanare|JOSE IVAN CORTES P.|SANDRA PATRICIA YATE|  2131,000|        2014-01-25|    2017-01-06|2018|  5.886| -71.408|    577.0|                   0|          89.0|       14.0|2000.0| 2018|\n",
      "|             16|null|  9MJ|AGROFORESTAL MATA...|Aeródromo|   1A|   Público| Santa Rosalía|     Vichada|                  0|RIOPAILA CASTILLA...|  1478,000|        2012-01-23|          null|2014| 5.2897|-70.6337|    118.0|                   0|        1489.0|       29.0|6500.0| null|\n",
      "|             17|null|  9MJ|AGROFORESTAL MATA...|Aeródromo|   1A|   Privado| Santa Rosalía|     Vichada|                  0|RIOPAILA CASTILLA...|  1478,000|        2012-01-23|          null|2015| 5.2897|-70.6337|    118.0|                   0|        2162.0|       43.0|6500.0| null|\n",
      "|             18|null|  9MJ|AGROFORESTAL MATA...|Aeródromo|   1A|Fumigación| Santa Rosalía|     Vichada|                  0|RIOPAILA CASTILLA...|  1478,000|        2012-01-23|          null|2016| 5.2897|-70.6337|    118.0|                   0|        2515.0|       49.0|6500.0| null|\n",
      "|             19|null|  9MJ|AGROFORESTAL MATA...|Aeródromo|   1A|   Público| Santa Rosalía|     Vichada|                  0|RIOPAILA CASTILLA...|  1478,000|        2012-01-23|          null|2017| 5.2897|-70.6337|    118.0|                   0|        1352.0|        4.0|6500.0| null|\n",
      "|             20|null|  9MJ|AGROFORESTAL MATA...|Aeródromo|   1A| Aerocivil| Santa Rosalía|     Vichada|                  0|RIOPAILA CASTILLA...|  1478,000|        2012-01-23|          null|2018| 5.2897|-70.6337|    118.0|                   0|        1603.0|        3.0|6500.0| 2018|\n",
      "+---------------+----+-----+--------------------+---------+-----+----------+--------------+------------+-------------------+--------------------+----------+------------------+--------------+----+-------+--------+---------+--------------------+--------------+-----------+------+-----+\n",
      "only showing top 20 rows\n",
      "\n"
     ]
    }
   ],
   "source": [
    "df.show()"
   ]
  },
  {
   "cell_type": "code",
   "execution_count": 51,
   "metadata": {},
   "outputs": [],
   "source": [
    "#estado_actual = No, registros anteriores de modificación del aerorpuerto\n",
    "#estado_actual = Si, último registro de modificación del aeropuerto\n",
    "df = df.withColumn('estado_actual', f.when(df['Ano_2'].isNull(), 'No').otherwise('Si'))\n",
    "df = df.withColumn('fecha_vigencia_final', f.when(df['estado_actual'] == 'Si', f.to_date(f.lit('2199-12-31'), 'yyyy-MM-dd')).\n",
    "                   otherwise(f.to_date(concat(col('Ano'),f.lit('-12-31')), 'yyyy-MM-dd')))"
   ]
  },
  {
   "cell_type": "code",
   "execution_count": 52,
   "metadata": {},
   "outputs": [],
   "source": [
    "# IDENTIFICAR PRIMER REGISTRO PARA ASIGNAR FECHA VIGENCIA INICIAL\n",
    "#Se utiliza un Window para extraer, del dataframe pasado por parámetro #Es decir, por cada llave natural, extrae la última versión.\n",
    "df2_aeropuertos = df_aeropuertos.alias('df2_aeropuertos')\n",
    "window = Window.partitionBy(df2_aeropuertos['sigla']).orderBy(df2_aeropuertos['Ano'].asc())\n",
    "df2_aeropuertos = df2_aeropuertos.select('*', f.rank().over(window).alias('rank')).filter(f.col('rank') == 1) \n",
    "df2_aeropuertos = df2_aeropuertos.drop('rank')"
   ]
  },
  {
   "cell_type": "code",
   "execution_count": 53,
   "metadata": {},
   "outputs": [],
   "source": [
    "#Ajustar nombres en nuevo DF para poder hacer el join con el df original\n",
    "df2_aeropuertos = df2_aeropuertos.selectExpr('aeropuertos_key','fecha_construccion as fecha_vigencia_inicial','Ano as Ano_3')\n",
    "#Realiza left join entre df_aeropuertos y df2_aeropuertos\n",
    "df = df.join(df2_aeropuertos, how = 'left', on ='aeropuertos_key')"
   ]
  },
  {
   "cell_type": "code",
   "execution_count": 54,
   "metadata": {},
   "outputs": [],
   "source": [
    "#estado_inicial = No, registros posteriores de modificación del aerorpuerto\n",
    "#estado_inicial = Si, primer registro de construcción del aeropuerto\n",
    "df = df.withColumn('estado_inicial', f.when(df['Ano_3'].isNull(), 'No').otherwise('Si'))\n",
    "df = df.withColumn('fecha_vigencia_inicial', f.when(df['estado_inicial'] == 'Si', df['fecha_construccion']).\n",
    "                   otherwise(f.to_date(concat(col('Ano'),f.lit('-01-01')), 'yyyy-MM-dd')))"
   ]
  },
  {
   "cell_type": "code",
   "execution_count": 55,
   "metadata": {},
   "outputs": [],
   "source": [
    "# Seleccionar columnas para archivo csv\n",
    "df_aeropuertos = df.select('aeropuertos_key','iata','sigla','nombre','categoria','clase','tipo','municipio','departamento',\n",
    " 'propietario','explotador','resolucion','fecha_construccion','fecha_vigencia','Ano',\n",
    "          'latitud','longitud','elevacion','numero_vuelos_origen','longitud_pista','ancho_pista','pbmo',\n",
    "          'estado_actual','fecha_vigencia_inicial','fecha_vigencia_final',year(\"fecha_vigencia_inicial\").alias(\"ano_inicial\"),year(\"fecha_vigencia_final\").alias(\"ano_final\"))"
   ]
  },
  {
   "cell_type": "code",
   "execution_count": 56,
   "metadata": {},
   "outputs": [
    {
     "name": "stdout",
     "output_type": "stream",
     "text": [
      "+--------------------+------------------+----+----------------------+--------------------+-----------+---------+\n",
      "|              nombre|fecha_construccion| Ano|fecha_vigencia_inicial|fecha_vigencia_final|ano_inicial|ano_final|\n",
      "+--------------------+------------------+----+----------------------+--------------------+-----------+---------+\n",
      "|            ACAPULCO|        2011-01-06|2014|            2011-01-06|          2014-12-31|       2011|     2014|\n",
      "|            ACAPULCO|        2011-01-06|2015|            2015-01-01|          2015-12-31|       2015|     2015|\n",
      "|            ACAPULCO|        2011-01-06|2016|            2016-01-01|          2016-12-31|       2016|     2016|\n",
      "|            ACAPULCO|        2011-01-06|2017|            2017-01-01|          2017-12-31|       2017|     2017|\n",
      "|            ACAPULCO|        2011-01-06|2018|            2018-01-01|          2199-12-31|       2018|     2199|\n",
      "|  AEROFLANDES - C.A.|        2013-01-20|2014|            2013-01-20|          2014-12-31|       2013|     2014|\n",
      "|  AEROFLANDES - C.A.|        2013-01-20|2015|            2015-01-01|          2015-12-31|       2015|     2015|\n",
      "|  AEROFLANDES - C.A.|        2013-01-20|2016|            2016-01-01|          2016-12-31|       2016|     2016|\n",
      "|  AEROFLANDES - C.A.|        2013-01-20|2017|            2017-01-01|          2017-12-31|       2017|     2017|\n",
      "|  AEROFLANDES - C.A.|        2013-01-20|2018|            2018-01-01|          2199-12-31|       2018|     2199|\n",
      "|          AFGANISTAN|        2014-01-25|2014|            2014-01-25|          2014-12-31|       2014|     2014|\n",
      "|          AFGANISTAN|        2014-01-25|2015|            2015-01-01|          2015-12-31|       2015|     2015|\n",
      "|          AFGANISTAN|        2014-01-25|2016|            2016-01-01|          2016-12-31|       2016|     2016|\n",
      "|          AFGANISTAN|        2014-01-25|2017|            2017-01-01|          2017-12-31|       2017|     2017|\n",
      "|          AFGANISTAN|        2014-01-25|2018|            2018-01-01|          2199-12-31|       2018|     2199|\n",
      "|AGROFORESTAL MATA...|        2012-01-23|2014|            2012-01-23|          2014-12-31|       2012|     2014|\n",
      "|AGROFORESTAL MATA...|        2012-01-23|2015|            2015-01-01|          2015-12-31|       2015|     2015|\n",
      "|AGROFORESTAL MATA...|        2012-01-23|2016|            2016-01-01|          2016-12-31|       2016|     2016|\n",
      "|AGROFORESTAL MATA...|        2012-01-23|2017|            2017-01-01|          2017-12-31|       2017|     2017|\n",
      "|AGROFORESTAL MATA...|        2012-01-23|2018|            2018-01-01|          2199-12-31|       2018|     2199|\n",
      "+--------------------+------------------+----+----------------------+--------------------+-----------+---------+\n",
      "only showing top 20 rows\n",
      "\n"
     ]
    }
   ],
   "source": [
    "df_aeropuertos.select('nombre','fecha_construccion','Ano','fecha_vigencia_inicial','fecha_vigencia_final',\"ano_inicial\", \"ano_final\").show(20)"
   ]
  },
  {
   "cell_type": "code",
   "execution_count": 57,
   "metadata": {},
   "outputs": [],
   "source": [
    "df_aeropuertos_csv=df_aeropuertos.alias(\"df_aeropuertos_csv\")"
   ]
  },
  {
   "cell_type": "code",
   "execution_count": 58,
   "metadata": {},
   "outputs": [],
   "source": [
    "df_aeropuertos_csv=df_aeropuertos_csv.drop(\"ano_inicial\",\"ano_final\")"
   ]
  },
  {
   "cell_type": "code",
   "execution_count": 59,
   "metadata": {},
   "outputs": [
    {
     "name": "stdout",
     "output_type": "stream",
     "text": [
      "root\n",
      " |-- aeropuertos_key: integer (nullable = true)\n",
      " |-- iata: string (nullable = true)\n",
      " |-- sigla: string (nullable = true)\n",
      " |-- nombre: string (nullable = true)\n",
      " |-- categoria: string (nullable = true)\n",
      " |-- clase: string (nullable = true)\n",
      " |-- tipo: string (nullable = true)\n",
      " |-- municipio: string (nullable = true)\n",
      " |-- departamento: string (nullable = true)\n",
      " |-- propietario: string (nullable = false)\n",
      " |-- explotador: string (nullable = true)\n",
      " |-- resolucion: string (nullable = false)\n",
      " |-- fecha_construccion: date (nullable = true)\n",
      " |-- fecha_vigencia: date (nullable = true)\n",
      " |-- Ano: string (nullable = true)\n",
      " |-- latitud: float (nullable = true)\n",
      " |-- longitud: float (nullable = true)\n",
      " |-- elevacion: string (nullable = true)\n",
      " |-- numero_vuelos_origen: integer (nullable = true)\n",
      " |-- longitud_pista: float (nullable = true)\n",
      " |-- ancho_pista: float (nullable = true)\n",
      " |-- pbmo: float (nullable = false)\n",
      " |-- estado_actual: string (nullable = false)\n",
      " |-- fecha_vigencia_inicial: date (nullable = true)\n",
      " |-- fecha_vigencia_final: date (nullable = true)\n",
      "\n",
      "+-------+------------------+----+-----+---------+---------+-----+---------+---------+------------+------------------+-----------------+----------+------------------+-----------------+------------------+------------------+--------------------+------------------+------------------+-----------------+-------------+\n",
      "|summary|   aeropuertos_key|iata|sigla|   nombre|categoria|clase|     tipo|municipio|departamento|       propietario|       explotador|resolucion|               Ano|          latitud|          longitud|         elevacion|numero_vuelos_origen|    longitud_pista|       ancho_pista|             pbmo|estado_actual|\n",
      "+-------+------------------+----+-----+---------+---------+-----+---------+---------+------------+------------------+-----------------+----------+------------------+-----------------+------------------+------------------+--------------------+------------------+------------------+-----------------+-------------+\n",
      "|  count|              1461| 323| 1461|     1461|     1461| 1461|     1461|     1461|        1461|              1461|             1461|      1461|              1461|             1461|              1461|              1461|                1461|              1461|              1461|             1461|         1461|\n",
      "|   mean|             731.0|null| null|     null|     null|  4.0|     null|     null|        null|               0.0|             null|       0.0|2016.0465434633813|5.656007543685582|-73.09078672436473| 988.6413415468857|  13264.461327857633|1145.0082135523614|21.677618069815196|3972.075975359343|         null|\n",
      "| stddev|421.89868452034784|null| null|     null|     null|  0.0|     null|     null|        null|               0.0|             null|       0.0|1.3973642126523005|2.342837334130854|2.2161840674625197|1461.0524293854064|  157415.06779095015| 1381.206819420859|24.350538770879627|7101.937589395999|         null|\n",
      "|    min|                 1| ACD|  7FO| ACAPULCO|Aeródromo|   0B|Aerocivil|  Acacías|    Amazonas|                 0|             ACAF|     2,279|              2014|          -1.7525|          -81.7113|               0.0|                   0|               0.0|               0.0|              0.0|           No|\n",
      "|    25%|               366|null| null|     null|     null|  4.0|     null|     null|        null|               0.0|             null|       0.0|            2015.0|           4.3625|          -74.8308|             377.0|                   0|             209.0|               4.0|            500.0|         null|\n",
      "|    50%|               731|null| null|     null|     null|  4.0|     null|     null|        null|               0.0|             null|       0.0|            2016.0|           5.2897|          -72.7478|             567.0|                   2|             702.0|              14.0|           2000.0|         null|\n",
      "|    75%|              1096|null| null|     null|     null|  4.0|     null|     null|        null|               0.0|             null|       0.0|            2017.0|           6.8964|          -71.6004|             796.0|                 250|            1535.0|              30.0|           3500.0|         null|\n",
      "|    max|              1461| VVC|  ZPS|YARIGUIES| Regional|   UL|  Público| Zapatoca|     Vichada|YOLANDA CAMACHO V.|VITIS OLEI S.A.S.|         0|              2018|          13.3572|          -67.0776|             992.0|             5057074|           12279.0|             169.0|          63196.0|           Si|\n",
      "+-------+------------------+----+-----+---------+---------+-----+---------+---------+------------+------------------+-----------------+----------+------------------+-----------------+------------------+------------------+--------------------+------------------+------------------+-----------------+-------------+\n",
      "\n"
     ]
    },
    {
     "data": {
      "text/plain": [
       "[Row(aeropuertos_key=1, iata=None, sigla='ACP', nombre='ACAPULCO', categoria='Aeródromo', clase='1A', tipo='Aerocivil', municipio='Nunchía', departamento='Casanare', propietario='YOLANDA CAMACHO V.', explotador='MARIA A. PACHECO OCHOA', resolucion=' 4895,000', fecha_construccion=datetime.date(2011, 1, 6), fecha_vigencia=datetime.date(2014, 1, 9), Ano='2014', latitud=5.408599853515625, longitud=-71.86940002441406, elevacion='656.0', numero_vuelos_origen=0, longitud_pista=84.0, ancho_pista=15.0, pbmo=2000.0, estado_actual='No', fecha_vigencia_inicial=datetime.date(2011, 1, 6), fecha_vigencia_final=datetime.date(2014, 12, 31)),\n",
       " Row(aeropuertos_key=2, iata=None, sigla='ACP', nombre='ACAPULCO', categoria='Aeródromo', clase='1A', tipo='Privado', municipio='Nunchía', departamento='Casanare', propietario='YOLANDA CAMACHO V.', explotador='MARIA A. PACHECO OCHOA', resolucion=' 4895,000', fecha_construccion=datetime.date(2011, 1, 6), fecha_vigencia=datetime.date(2014, 1, 9), Ano='2015', latitud=5.408599853515625, longitud=-71.86940002441406, elevacion='656.0', numero_vuelos_origen=0, longitud_pista=43.0, ancho_pista=15.0, pbmo=2000.0, estado_actual='No', fecha_vigencia_inicial=datetime.date(2015, 1, 1), fecha_vigencia_final=datetime.date(2015, 12, 31)),\n",
       " Row(aeropuertos_key=3, iata=None, sigla='ACP', nombre='ACAPULCO', categoria='Aeródromo', clase='1A', tipo='Público', municipio='Nunchía', departamento='Casanare', propietario='YOLANDA CAMACHO V.', explotador='MARIA A. PACHECO OCHOA', resolucion=' 4895,000', fecha_construccion=datetime.date(2011, 1, 6), fecha_vigencia=datetime.date(2014, 1, 9), Ano='2016', latitud=5.408599853515625, longitud=-71.86940002441406, elevacion='656.0', numero_vuelos_origen=0, longitud_pista=10.0, ancho_pista=23.0, pbmo=2000.0, estado_actual='No', fecha_vigencia_inicial=datetime.date(2016, 1, 1), fecha_vigencia_final=datetime.date(2016, 12, 31)),\n",
       " Row(aeropuertos_key=4, iata=None, sigla='ACP', nombre='ACAPULCO', categoria='Aeródromo', clase='1A', tipo='Público', municipio='Nunchía', departamento='Casanare', propietario='YOLANDA CAMACHO V.', explotador='MARIA A. PACHECO OCHOA', resolucion=' 4895,000', fecha_construccion=datetime.date(2011, 1, 6), fecha_vigencia=datetime.date(2014, 1, 9), Ano='2017', latitud=5.408599853515625, longitud=-71.86940002441406, elevacion='656.0', numero_vuelos_origen=0, longitud_pista=1502.0, ancho_pista=16.0, pbmo=2000.0, estado_actual='No', fecha_vigencia_inicial=datetime.date(2017, 1, 1), fecha_vigencia_final=datetime.date(2017, 12, 31)),\n",
       " Row(aeropuertos_key=5, iata=None, sigla='ACP', nombre='ACAPULCO', categoria='Aeródromo', clase='1A', tipo='Aerocivil', municipio='Nunchía', departamento='Casanare', propietario='YOLANDA CAMACHO V.', explotador='MARIA A. PACHECO OCHOA', resolucion=' 4895,000', fecha_construccion=datetime.date(2011, 1, 6), fecha_vigencia=datetime.date(2014, 1, 9), Ano='2018', latitud=5.408599853515625, longitud=-71.86940002441406, elevacion='656.0', numero_vuelos_origen=0, longitud_pista=1903.0, ancho_pista=27.0, pbmo=2000.0, estado_actual='Si', fecha_vigencia_inicial=datetime.date(2018, 1, 1), fecha_vigencia_final=datetime.date(2199, 12, 31))]"
      ]
     },
     "execution_count": 59,
     "metadata": {},
     "output_type": "execute_result"
    }
   ],
   "source": [
    "df_aeropuertos_csv.printSchema()\n",
    "df_aeropuertos_csv.summary().show()\n",
    "df_aeropuertos_csv.head(5)"
   ]
  },
  {
   "cell_type": "code",
   "execution_count": 60,
   "metadata": {},
   "outputs": [],
   "source": [
    "#Exportar\n",
    "df_aeropuertos_csv.toPandas().to_csv('aeropuertos_v4.csv',index=False)\n",
    "\n"
   ]
  },
  {
   "cell_type": "code",
   "execution_count": 61,
   "metadata": {},
   "outputs": [],
   "source": [
    "#Tipo de equipo"
   ]
  },
  {
   "cell_type": "code",
   "execution_count": 62,
   "metadata": {},
   "outputs": [],
   "source": [
    "df_tipo_equipo_fuente = dfe.alias(\"df_tipo_equipo_fuente\")"
   ]
  },
  {
   "cell_type": "code",
   "execution_count": 63,
   "metadata": {
    "scrolled": true
   },
   "outputs": [
    {
     "name": "stdout",
     "output_type": "stream",
     "text": [
      "+-------------------+-----------+----------+-----------+----------+--------------------+--------------+---+\n",
      "|AircraftDescription|Description|Designator|EngineCount|EngineType|    ManufacturerCode| ModelFullName|WTC|\n",
      "+-------------------+-----------+----------+-----------+----------+--------------------+--------------+---+\n",
      "|          LandPlane|        L2J|      J328|          2|       Jet|328 SUPPORT SERVICES|Dornier 328JET|  M|\n",
      "|          LandPlane|        L1P|      UL45|          1|    Piston|              3XTRIM|     450 Ultra|  L|\n",
      "|          LandPlane|        L1P|      UL45|          1|    Piston|              3XTRIM|         Ultra|  L|\n",
      "|          LandPlane|        L1P|      TR55|          1|    Piston|              3XTRIM|    550 Trener|  L|\n",
      "|          LandPlane|        L1P|      TR55|          1|    Piston|              3XTRIM|      Trener  |  L|\n",
      "+-------------------+-----------+----------+-----------+----------+--------------------+--------------+---+\n",
      "only showing top 5 rows\n",
      "\n"
     ]
    }
   ],
   "source": [
    "df_tipo_equipo_fuente.show(5)"
   ]
  },
  {
   "cell_type": "code",
   "execution_count": 64,
   "metadata": {},
   "outputs": [
    {
     "name": "stdout",
     "output_type": "stream",
     "text": [
      "+-------------------+-----------+----------+-----------+----------+----------------+-------------+---+\n",
      "|AircraftDescription|Description|Designator|EngineCount|EngineType|ManufacturerCode|ModelFullName|WTC|\n",
      "+-------------------+-----------+----------+-----------+----------+----------------+-------------+---+\n",
      "|                  0|          0|         0|          0|         0|               0|            0|  0|\n",
      "+-------------------+-----------+----------+-----------+----------+----------------+-------------+---+\n",
      "\n"
     ]
    }
   ],
   "source": [
    "# Verificación de datos nulos\n",
    "df_tipo_equipo_fuente.select([count(when(isnan(c) | col(c).isNull(), c)).alias(c) for c in df_tipo_equipo_fuente.columns]).show()"
   ]
  },
  {
   "cell_type": "code",
   "execution_count": 65,
   "metadata": {},
   "outputs": [
    {
     "name": "stdout",
     "output_type": "stream",
     "text": [
      "(2640, 7)\n"
     ]
    },
    {
     "data": {
      "text/plain": [
       "['tipo_equipo',\n",
       " 'tipo_aeronave',\n",
       " 'codigo_descripcion',\n",
       " 'EngineCount',\n",
       " 'numero_motores',\n",
       " 'fabricante',\n",
       " 'WTC']"
      ]
     },
     "execution_count": 65,
     "metadata": {},
     "output_type": "execute_result"
    }
   ],
   "source": [
    "df_tipo_equipo_fuente = df_tipo_equipo_fuente.selectExpr('Designator as tipo_equipo','AircraftDescription as tipo_aeronave',\n",
    "                                                         'Description as codigo_descripcion', 'EngineCount',\n",
    "                                                         'EngineType as numero_motores', 'ManufacturerCode as fabricante',\n",
    "                                                         'WTC')\n",
    "df_tipo_equipo_fuente = df_tipo_equipo_fuente.distinct()\n",
    "\n",
    "#Se utiliza un Window para extraer, del dataframe pasado por parámetro #Es decir, por cada llave natural, extrae la última versión.\n",
    "df2_tipo_equipo_fuente = df_tipo_equipo_fuente.alias('df2_tipo_equipo_fuente')\n",
    "window = Window.partitionBy(df2_tipo_equipo_fuente['tipo_equipo']).orderBy(df2_tipo_equipo_fuente['fabricante'].desc())\n",
    "df2_tipo_equipo_fuente = df2_tipo_equipo_fuente.select('*', f.rank().over(window).alias('rank')).filter(f.col('rank') == 1) \n",
    "df2_tipo_equipo_fuente = df2_tipo_equipo_fuente.drop('rank')\n",
    "print((df2_tipo_equipo_fuente.count(), len(df2_tipo_equipo_fuente.columns)))\n",
    "df2_tipo_equipo_fuente.schema.names"
   ]
  },
  {
   "cell_type": "code",
   "execution_count": 66,
   "metadata": {},
   "outputs": [],
   "source": [
    "df_tipo_equipo_fuente =df_tipo_equipo_fuente.sort(\"tipo_equipo\")"
   ]
  },
  {
   "cell_type": "code",
   "execution_count": 67,
   "metadata": {},
   "outputs": [],
   "source": [
    "#Agregar columna key\n",
    "df_tipo_equipo_fuente = df_tipo_equipo_fuente.withColumn(\n",
    "    \"tipo_equipo_key\",\n",
    "    row_number().over(Window.orderBy(monotonically_increasing_id()))\n",
    ")\n"
   ]
  },
  {
   "cell_type": "code",
   "execution_count": 68,
   "metadata": {
    "scrolled": false
   },
   "outputs": [
    {
     "name": "stdout",
     "output_type": "stream",
     "text": [
      "+-------+-----------+-------------+------------------+------------------+--------------------+--------------------+----+------------------+\n",
      "|summary|tipo_equipo|tipo_aeronave|codigo_descripcion|       EngineCount|      numero_motores|          fabricante| WTC|   tipo_equipo_key|\n",
      "+-------+-----------+-------------+------------------+------------------+--------------------+--------------------+----+------------------+\n",
      "|  count|       4113|         4113|              4113|              4113|                4113|                4113|4113|              4113|\n",
      "|   mean|       null|         null|              null|1.3782534663099002|                null|                null|null|            2057.0|\n",
      "| stddev|       null|         null|              null|0.6746749888689957|                null|                null|null|1187.4651573835756|\n",
      "|    min|       A002|    Amphibian|               A1P|                 1|            Electric|328 SUPPORT SERVICES|   H|                 1|\n",
      "|    25%|       null|         null|              null|               1.0|                null|                null|null|              1029|\n",
      "|    50%|       null|         null|              null|               1.0|                null|                null|null|              2057|\n",
      "|    75%|       null|         null|              null|               2.0|                null|                null|null|              3085|\n",
      "|    max|       ZULU|    Tilt-wing|               T2T|                 C|Turboprop/Turboshaft|       ZLIN AVIATION|   M|              4113|\n",
      "+-------+-----------+-------------+------------------+------------------+--------------------+--------------------+----+------------------+\n",
      "\n"
     ]
    },
    {
     "data": {
      "text/plain": [
       "[Row(tipo_equipo='A002', tipo_aeronave='Gyrocopter', codigo_descripcion='G1P', EngineCount='1', numero_motores='Piston', fabricante='IRKUT', WTC='L', tipo_equipo_key=1),\n",
       " Row(tipo_equipo='A1', tipo_aeronave='LandPlane', codigo_descripcion='L1P', EngineCount='1', numero_motores='Piston', fabricante='DOUGLAS', WTC='M', tipo_equipo_key=2),\n",
       " Row(tipo_equipo='A10', tipo_aeronave='LandPlane', codigo_descripcion='L2J', EngineCount='2', numero_motores='Jet', fabricante='FAIRCHILD (1)', WTC='M', tipo_equipo_key=3),\n",
       " Row(tipo_equipo='A109', tipo_aeronave='Helicopter', codigo_descripcion='H2T', EngineCount='2', numero_motores='Turboprop/Turboshaft', fabricante='DENEL', WTC='L', tipo_equipo_key=4),\n",
       " Row(tipo_equipo='A109', tipo_aeronave='Helicopter', codigo_descripcion='H2T', EngineCount='2', numero_motores='Turboprop/Turboshaft', fabricante='LEONARDO', WTC='L', tipo_equipo_key=5)]"
      ]
     },
     "execution_count": 68,
     "metadata": {},
     "output_type": "execute_result"
    }
   ],
   "source": [
    "df_tipo_equipo_fuente.summary().show()\n",
    "\n",
    "df_tipo_equipo_fuente.head(5)"
   ]
  },
  {
   "cell_type": "code",
   "execution_count": 69,
   "metadata": {},
   "outputs": [
    {
     "name": "stdout",
     "output_type": "stream",
     "text": [
      "root\n",
      " |-- tipo_equipo: string (nullable = true)\n",
      " |-- tipo_aeronave: string (nullable = true)\n",
      " |-- codigo_descripcion: string (nullable = true)\n",
      " |-- EngineCount: string (nullable = true)\n",
      " |-- numero_motores: string (nullable = true)\n",
      " |-- fabricante: string (nullable = true)\n",
      " |-- WTC: string (nullable = true)\n",
      " |-- tipo_equipo_key: integer (nullable = true)\n",
      "\n"
     ]
    }
   ],
   "source": [
    "df_tipo_equipo_fuente.printSchema()"
   ]
  },
  {
   "cell_type": "code",
   "execution_count": 70,
   "metadata": {},
   "outputs": [],
   "source": [
    "#Exportar\n",
    "df_tipo_equipo_fuente.toPandas().to_csv('tipo_equipo_v4.csv',index=False)"
   ]
  },
  {
   "cell_type": "code",
   "execution_count": 71,
   "metadata": {},
   "outputs": [],
   "source": [
    "#Tabla de hechos\n",
    "fact_vuelos = dfv.alias(\"fact_vuelos\")\n"
   ]
  },
  {
   "cell_type": "code",
   "execution_count": 72,
   "metadata": {},
   "outputs": [],
   "source": [
    "#Cambio del tipo de columna\n",
    "fact_vuelos = fact_vuelos.withColumn(\"vuelos\",fact_vuelos[\"vuelos\"].cast('int'))\n",
    "fact_vuelos = fact_vuelos.withColumn(\"sillas\",fact_vuelos[\"sillas\"].cast('int'))\n",
    "fact_vuelos = fact_vuelos.withColumn(\"pasajeros\",fact_vuelos[\"pasajeros\"].cast('int'))\n",
    "fact_vuelos = fact_vuelos.withColumn(\"carga_ofrecida\",fact_vuelos[\"carga_ofrecida\"].cast(FloatType()))\n",
    "fact_vuelos = fact_vuelos.withColumn(\"carga_bordo\",fact_vuelos[\"carga_bordo\"].cast(FloatType()))\n",
    "fact_vuelos = fact_vuelos.withColumn(\"ano\",fact_vuelos[\"ano\"].cast(StringType()))\n",
    "fact_vuelos = fact_vuelos.withColumn(\"mes\",fact_vuelos[\"mes\"].cast(StringType()))"
   ]
  },
  {
   "cell_type": "code",
   "execution_count": 73,
   "metadata": {},
   "outputs": [],
   "source": [
    "#\n",
    "fact_vuelos = fact_vuelos.fillna({'sillas': 0, 'pasajeros': 0})\n",
    "fact_vuelos = fact_vuelos.withColumn('trafico', regexp_replace('trafico', 'nan', 'N'))"
   ]
  },
  {
   "cell_type": "code",
   "execution_count": 74,
   "metadata": {},
   "outputs": [],
   "source": [
    "ajuste_mes = {'1':'01', '2':'02', '3':'03', '4':'04', '5':'05', '6':'06', '7':'07', '8':'08', '9':'09'}\n",
    "fact_vuelos = fact_vuelos.na.replace(ajuste_mes,2,'mes')"
   ]
  },
  {
   "cell_type": "code",
   "execution_count": 75,
   "metadata": {},
   "outputs": [],
   "source": [
    "#Incluir foreign keys\n",
    "key_fecha=fecha.alias(\"fecha\")\n",
    "\n"
   ]
  },
  {
   "cell_type": "code",
   "execution_count": 76,
   "metadata": {},
   "outputs": [],
   "source": [
    "#Fecha\n",
    "fact_vuelos = fact_vuelos.join(key_fecha, [\"ano\",\"mes\"] )\n",
    "\n"
   ]
  },
  {
   "cell_type": "code",
   "execution_count": 77,
   "metadata": {},
   "outputs": [],
   "source": [
    "#Empresa\n",
    "key_empresa=empresa.alias(\"key_empresa\")"
   ]
  },
  {
   "cell_type": "code",
   "execution_count": 78,
   "metadata": {},
   "outputs": [],
   "source": [
    "fact_vuelos = fact_vuelos.join(key_empresa, [\"empresa\"] )\n"
   ]
  },
  {
   "cell_type": "code",
   "execution_count": 79,
   "metadata": {},
   "outputs": [],
   "source": [
    "#Tipo de vuelo\n",
    "key_tipo_de_vuelo=tipo_de_vuelo.alias(\"key_tipo_de_vuelo\")"
   ]
  },
  {
   "cell_type": "code",
   "execution_count": 80,
   "metadata": {},
   "outputs": [],
   "source": [
    "fact_vuelos = fact_vuelos.join(key_tipo_de_vuelo, [\"tipo_vuelo\"] )"
   ]
  },
  {
   "cell_type": "code",
   "execution_count": 81,
   "metadata": {},
   "outputs": [],
   "source": [
    "#Trafico\n",
    "key_trafico=trafico.alias(\"key_trafico\")"
   ]
  },
  {
   "cell_type": "code",
   "execution_count": 82,
   "metadata": {},
   "outputs": [],
   "source": [
    "fact_vuelos = fact_vuelos.join(key_trafico, [\"trafico\"] )"
   ]
  },
  {
   "cell_type": "code",
   "execution_count": 83,
   "metadata": {},
   "outputs": [
    {
     "name": "stdout",
     "output_type": "stream",
     "text": [
      "root\n",
      " |-- trafico: string (nullable = true)\n",
      " |-- tipo_vuelo: string (nullable = true)\n",
      " |-- empresa: string (nullable = true)\n",
      " |-- ano: string (nullable = true)\n",
      " |-- mes: string (nullable = true)\n",
      " |-- origen: string (nullable = true)\n",
      " |-- destino: string (nullable = true)\n",
      " |-- tipo_equipo: string (nullable = true)\n",
      " |-- vuelos: integer (nullable = true)\n",
      " |-- sillas: integer (nullable = false)\n",
      " |-- carga_ofrecida: float (nullable = true)\n",
      " |-- pasajeros: integer (nullable = false)\n",
      " |-- carga_bordo: float (nullable = true)\n",
      " |-- fecha_key: integer (nullable = true)\n",
      " |-- empresa_key: integer (nullable = true)\n",
      " |-- tipo_de_vuelo_key: integer (nullable = true)\n",
      " |-- trafico_key: integer (nullable = true)\n",
      "\n"
     ]
    }
   ],
   "source": [
    "fact_vuelos.printSchema()"
   ]
  },
  {
   "cell_type": "code",
   "execution_count": 84,
   "metadata": {},
   "outputs": [],
   "source": [
    "#Aeropuertos\n",
    "key_aeropuertos=df_aeropuertos.alias(\"key_aeropuertos\")"
   ]
  },
  {
   "cell_type": "code",
   "execution_count": 85,
   "metadata": {},
   "outputs": [],
   "source": [
    "key_aeropuertos =key_aeropuertos.selectExpr(\"iata as origen_b\",\"aeropuertos_key as origen_key\", \"ano_inicial\",\"ano_final\") "
   ]
  },
  {
   "cell_type": "code",
   "execution_count": 86,
   "metadata": {},
   "outputs": [],
   "source": [
    "fact_vuelos=fact_vuelos.join(key_aeropuertos, [(fact_vuelos.origen==key_aeropuertos.origen_b)&(fact_vuelos.ano >= key_aeropuertos.ano_inicial)&(fact_vuelos.ano <= key_aeropuertos.ano_final)])"
   ]
  },
  {
   "cell_type": "code",
   "execution_count": 87,
   "metadata": {},
   "outputs": [],
   "source": [
    "fact_vuelos = fact_vuelos.drop(\"origen_b\",\"ano_inicial\",\"ano_final\" )"
   ]
  },
  {
   "cell_type": "code",
   "execution_count": 88,
   "metadata": {},
   "outputs": [],
   "source": [
    "key_aeropuertos2=df_aeropuertos.alias(\"key_aeropuertos2\")"
   ]
  },
  {
   "cell_type": "code",
   "execution_count": 89,
   "metadata": {},
   "outputs": [],
   "source": [
    "key_aeropuertos2 =key_aeropuertos2.selectExpr(\"iata as destino_b\",\"aeropuertos_key as destino_key\",\"ano_inicial\",\"ano_final\") "
   ]
  },
  {
   "cell_type": "code",
   "execution_count": 90,
   "metadata": {},
   "outputs": [],
   "source": [
    "fact_vuelos=fact_vuelos.join(key_aeropuertos2, [(fact_vuelos.destino==key_aeropuertos2.destino_b)&(fact_vuelos.ano >= key_aeropuertos2.ano_inicial)&(fact_vuelos.ano <= key_aeropuertos2.ano_final)])"
   ]
  },
  {
   "cell_type": "code",
   "execution_count": 91,
   "metadata": {},
   "outputs": [],
   "source": [
    "fact_vuelos = fact_vuelos.drop(\"origen_b\",\"ano_inicial\",\"ano_final\" )"
   ]
  },
  {
   "cell_type": "code",
   "execution_count": 92,
   "metadata": {},
   "outputs": [],
   "source": [
    "#Tipo de equipo\n",
    "key_tipo_equipo=df_tipo_equipo_fuente.alias(\"key_tipo_equipo\")\n"
   ]
  },
  {
   "cell_type": "code",
   "execution_count": 93,
   "metadata": {},
   "outputs": [],
   "source": [
    "fact_vuelos = fact_vuelos.join(key_tipo_equipo,[\"tipo_equipo\"] )"
   ]
  },
  {
   "cell_type": "code",
   "execution_count": 94,
   "metadata": {},
   "outputs": [],
   "source": [
    "#Transformación tabla de hechos\n",
    "fact_vuelos= fact_vuelos.select(\"vuelos\",\"sillas\",\"pasajeros\",\"carga_ofrecida\",\"carga_bordo\",\"fecha_key\", \"empresa_key\", \"tipo_de_vuelo_key\", \"trafico_key\", \"origen_key\", \"destino_key\", \"tipo_equipo_key\")"
   ]
  },
  {
   "cell_type": "code",
   "execution_count": 95,
   "metadata": {},
   "outputs": [],
   "source": [
    "#Agregar columna key\n",
    "fact_vuelos = fact_vuelos.withColumn(\n",
    "    \"vuelos_key\",\n",
    "    row_number().over(Window.orderBy(monotonically_increasing_id()))\n",
    ")\n"
   ]
  },
  {
   "cell_type": "code",
   "execution_count": 96,
   "metadata": {},
   "outputs": [],
   "source": [
    "fact_vuelos.toPandas().to_csv('fact_vuelos_v4.csv',index=False)\n"
   ]
  },
  {
   "cell_type": "code",
   "execution_count": 97,
   "metadata": {},
   "outputs": [
    {
     "name": "stdout",
     "output_type": "stream",
     "text": [
      "+-------+------------------+-----------------+------------------+-----------------+-----------------+-----------------+-----------------+------------------+-----------+------------------+-----------------+------------------+-----------------+\n",
      "|summary|            vuelos|           sillas|         pasajeros|   carga_ofrecida|      carga_bordo|        fecha_key|      empresa_key| tipo_de_vuelo_key|trafico_key|        origen_key|      destino_key|   tipo_equipo_key|       vuelos_key|\n",
      "+-------+------------------+-----------------+------------------+-----------------+-----------------+-----------------+-----------------+------------------+-----------+------------------+-----------------+------------------+-----------------+\n",
      "|  count|            166793|           166793|            166793|           166793|           166789|           166793|           166793|            166793|     166793|            166793|           166793|            166793|           166793|\n",
      "|   mean| 8.822318682438711|600.2692379176584|485.85709831947383|27301.08542924463|2938.749150123809|43.51786945495314|88.86118722008717| 3.762382114357317|        2.0| 690.0693194558525|682.1158741673811| 1461.038083132985|          83397.0|\n",
      "| stddev|27.995223566652285|3367.069105112676|2714.3737867848613|184423.2496021538|17777.47236697255|23.84931076872443|46.79968773299414|0.4797414593563274|        0.0|483.09749515022935|480.3626619681924|1040.4169032913833|48149.13606182358|\n",
      "|    min|                 0|                0|                 0|              0.0|              0.0|                1|                5|                 1|          2|                44|               44|                68|                1|\n",
      "|    25%|                 1|                0|                 2|              0.0|              0.0|               24|               46|                 4|          2|               350|              350|               580|            41691|\n",
      "|    50%|                 1|                0|                 4|              0.0|             45.0|               43|              108|                 4|          2|               417|              417|               847|            83385|\n",
      "|    75%|                 4|                0|                19|              0.0|            260.0|               63|              129|                 4|          2|              1220|             1189|              2896|           125078|\n",
      "|    max|              2004|            81019|             65195|        4758000.0|         467438.0|              108|              160|                 4|          2|              1461|             1461|              4055|           166793|\n",
      "+-------+------------------+-----------------+------------------+-----------------+-----------------+-----------------+-----------------+------------------+-----------+------------------+-----------------+------------------+-----------------+\n",
      "\n",
      "root\n",
      " |-- vuelos: integer (nullable = true)\n",
      " |-- sillas: integer (nullable = false)\n",
      " |-- pasajeros: integer (nullable = false)\n",
      " |-- carga_ofrecida: float (nullable = true)\n",
      " |-- carga_bordo: float (nullable = true)\n",
      " |-- fecha_key: integer (nullable = true)\n",
      " |-- empresa_key: integer (nullable = true)\n",
      " |-- tipo_de_vuelo_key: integer (nullable = true)\n",
      " |-- trafico_key: integer (nullable = true)\n",
      " |-- origen_key: integer (nullable = true)\n",
      " |-- destino_key: integer (nullable = true)\n",
      " |-- tipo_equipo_key: integer (nullable = true)\n",
      " |-- vuelos_key: integer (nullable = true)\n",
      "\n"
     ]
    }
   ],
   "source": [
    "fact_vuelos.summary().show()\n",
    "fact_vuelos.printSchema()"
   ]
  },
  {
   "cell_type": "code",
   "execution_count": 98,
   "metadata": {},
   "outputs": [
    {
     "data": {
      "text/plain": [
       "[Row(vuelos=1, sillas=0, pasajeros=0, carga_ofrecida=0.0, carga_bordo=0.0, fecha_key=67, empresa_key=87, tipo_de_vuelo_key=4, trafico_key=2, origen_key=1188, destino_key=1203, tipo_equipo_key=847, vuelos_key=1),\n",
       " Row(vuelos=1, sillas=0, pasajeros=0, carga_ofrecida=0.0, carga_bordo=0.0, fecha_key=67, empresa_key=87, tipo_de_vuelo_key=4, trafico_key=2, origen_key=1188, destino_key=1203, tipo_equipo_key=846, vuelos_key=2),\n",
       " Row(vuelos=1, sillas=0, pasajeros=0, carga_ofrecida=0.0, carga_bordo=0.0, fecha_key=56, empresa_key=139, tipo_de_vuelo_key=4, trafico_key=2, origen_key=56, destino_key=1202, tipo_equipo_key=2271, vuelos_key=3),\n",
       " Row(vuelos=1, sillas=0, pasajeros=0, carga_ofrecida=0.0, carga_bordo=0.0, fecha_key=56, empresa_key=139, tipo_de_vuelo_key=4, trafico_key=2, origen_key=56, destino_key=1202, tipo_equipo_key=2270, vuelos_key=4),\n",
       " Row(vuelos=1, sillas=18, pasajeros=1, carga_ofrecida=209.0, carga_bordo=0.0, fecha_key=37, empresa_key=15, tipo_de_vuelo_key=3, trafico_key=2, origen_key=375, destino_key=1202, tipo_equipo_key=1309, vuelos_key=5)]"
      ]
     },
     "execution_count": 98,
     "metadata": {},
     "output_type": "execute_result"
    }
   ],
   "source": [
    "fact_vuelos.head(5)\n"
   ]
  }
 ],
 "metadata": {
  "kernelspec": {
   "display_name": "Python 3 (ipykernel)",
   "language": "python",
   "name": "python3"
  },
  "language_info": {
   "codemirror_mode": {
    "name": "ipython",
    "version": 3
   },
   "file_extension": ".py",
   "mimetype": "text/x-python",
   "name": "python",
   "nbconvert_exporter": "python",
   "pygments_lexer": "ipython3",
   "version": "3.8.8"
  }
 },
 "nbformat": 4,
 "nbformat_minor": 2
}
